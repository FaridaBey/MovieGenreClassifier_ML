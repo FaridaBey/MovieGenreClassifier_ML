{
  "cells": [
    {
      "cell_type": "code",
      "execution_count": 1,
      "metadata": {
        "colab": {
          "base_uri": "https://localhost:8080/"
        },
        "id": "EwWi7kkXV1uM",
        "outputId": "1cb53dab-cce1-411e-ec65-d0921aa3c72d"
      },
      "outputs": [
        {
          "name": "stdout",
          "output_type": "stream",
          "text": [
            "Mounted at /content/drive\n"
          ]
        }
      ],
      "source": [
        "from google.colab import drive\n",
        "drive.mount('/content/drive')"
      ]
    },
    {
      "cell_type": "markdown",
      "metadata": {},
      "source": [
        "# Logistic Regression"
      ]
    },
    {
      "cell_type": "markdown",
      "metadata": {
        "id": "HYVTUrLaKs2P"
      },
      "source": [
        "# Import"
      ]
    },
    {
      "cell_type": "code",
      "execution_count": 2,
      "metadata": {
        "id": "9cip0I2nKs2P"
      },
      "outputs": [],
      "source": [
        "import pandas as pd\n",
        "import numpy as np\n",
        "from sklearn.model_selection import KFold\n",
        "from sklearn.tree import DecisionTreeClassifier\n",
        "from sklearn.metrics import classification_report"
      ]
    },
    {
      "cell_type": "markdown",
      "metadata": {
        "id": "nzFu0VtdKs2R"
      },
      "source": [
        "# Load"
      ]
    },
    {
      "cell_type": "code",
      "execution_count": 3,
      "metadata": {
        "id": "leJyqRf5Ks2R"
      },
      "outputs": [],
      "source": [
        "# Load dataset\n",
        "train = pd.read_csv('/content/drive/MyDrive/ML dataset /train.csv')\n",
        "test = pd.read_csv('/content/drive/MyDrive/ML dataset /test.csv')"
      ]
    },
    {
      "cell_type": "markdown",
      "metadata": {
        "id": "jmTN_F0vKs2S"
      },
      "source": [
        "# Split"
      ]
    },
    {
      "cell_type": "code",
      "execution_count": 4,
      "metadata": {
        "id": "sJUKdWqNKs2S"
      },
      "outputs": [],
      "source": [
        "X_train = train.drop(columns=[col for col in train.columns if isinstance(col, str) and col.startswith('genre_')])\n",
        "y_train = train[[col for col in train.columns if isinstance(col, str) and col.startswith('genre_')]]\n",
        "X_test = test.drop(columns=[col for col in test.columns if isinstance(col, str) and col.startswith('genre_')])\n",
        "y_test = test[[col for col in test.columns if isinstance(col, str) and col.startswith('genre_')]]"
      ]
    },
    {
      "cell_type": "code",
      "execution_count": 5,
      "metadata": {
        "colab": {
          "base_uri": "https://localhost:8080/"
        },
        "id": "XAmZSMy8aZIh",
        "outputId": "b9498dff-2efe-4cd1-f22e-cb89b010fb8e"
      },
      "outputs": [
        {
          "name": "stdout",
          "output_type": "stream",
          "text": [
            "(130629, 1515)\n",
            "(130629, 19)\n",
            "(32658, 1515)\n",
            "(32658, 19)\n"
          ]
        }
      ],
      "source": [
        "print(X_train.shape)\n",
        "print(y_train.shape)\n",
        "print(X_test.shape)\n",
        "print(y_test.shape)"
      ]
    },
    {
      "cell_type": "markdown",
      "metadata": {
        "id": "-_NymzjaKs2T"
      },
      "source": [
        "# Training"
      ]
    },
    {
      "cell_type": "code",
      "execution_count": null,
      "metadata": {
        "id": "xDzdBTsj0ZAb"
      },
      "outputs": [],
      "source": [
        "KF = KFold(n_splits=5)\n",
        "\n",
        "def Model_Train(Model, X, Y):\n",
        "    Preds = []\n",
        "    for i, j in KF.split(X):\n",
        "        Train_X = X.iloc[i]\n",
        "        Test_X = X.iloc[j]\n",
        "        Train_Y = Y.iloc[i]\n",
        "\n",
        "        Model.fit(Train_X, Train_Y)\n",
        "        Pred_Y = Model.predict(Test_X)\n",
        "        Preds.append(Pred_Y)\n",
        "    return Preds"
      ]
    },
    {
      "cell_type": "code",
      "execution_count": null,
      "metadata": {
        "id": "y4WvIZZ0F3iS"
      },
      "outputs": [],
      "source": [
        "from sklearn.linear_model import LogisticRegression\n",
        "from sklearn.multiclass import OneVsRestClassifier\n",
        "LogR = OneVsRestClassifier(LogisticRegression(solver='liblinear',  max_iter=10000))\n",
        "Model_Train(LogR, X_train, y_train)\n",
        "\n",
        "y_pred = LogR.predict(X_test)"
      ]
    },
    {
      "cell_type": "code",
      "execution_count": 6,
      "metadata": {
        "colab": {
          "base_uri": "https://localhost:8080/"
        },
        "id": "PF1hFNP7NW1M",
        "outputId": "b4addaa3-6f81-45ba-c68e-568e4637657d"
      },
      "outputs": [
        {
          "name": "stdout",
          "output_type": "stream",
          "text": [
            "Logistic Regression:\n",
            "-----------------------------------------------------\n",
            "\n",
            "                 precision    recall  f1-score   support\n",
            "\n",
            "         Action       0.63      0.04      0.07      2988\n",
            "      Adventure       0.64      0.02      0.04      1681\n",
            "      Animation       0.00      0.00      0.00      2603\n",
            "         Comedy       0.13      0.00      0.00      8162\n",
            "          Crime       0.00      0.00      0.00      2220\n",
            "    Documentary       0.00      0.00      0.00      5998\n",
            "          Drama       0.57      0.21      0.30     12017\n",
            "         Family       0.00      0.00      0.00      1683\n",
            "        Fantasy       0.23      0.00      0.00      1434\n",
            "        History       0.00      0.00      0.00      1002\n",
            "         Horror       0.33      0.00      0.00      2961\n",
            "          Music       0.00      0.00      0.00      1993\n",
            "        Mystery       0.00      0.00      0.00      1279\n",
            "        Romance       0.43      0.00      0.00      3280\n",
            "Science Fiction       0.55      0.01      0.02      1360\n",
            "       TV Movie       0.00      0.00      0.00      1483\n",
            "       Thriller       0.31      0.00      0.00      3297\n",
            "            War       0.00      0.00      0.00       706\n",
            "        Western       0.00      0.00      0.00       494\n",
            "\n",
            "      micro avg       0.56      0.05      0.09     56641\n",
            "      macro avg       0.20      0.01      0.02     56641\n",
            "   weighted avg       0.27      0.05      0.07     56641\n",
            "    samples avg       0.08      0.05      0.06     56641\n",
            "\n"
          ]
        }
      ],
      "source": [
        "print('Logistic Regression:')\n",
        "print('-----------------------------------------------------')\n",
        "genre_columns = [col.replace('genre_', '') for col in train.columns if isinstance(col, str) and col.startswith('genre_')]\n",
        "print(classification_report(y_test, y_pred, target_names=genre_columns, zero_division=0))"
      ]
    }
  ],
  "metadata": {
    "colab": {
      "provenance": []
    },
    "kernelspec": {
      "display_name": "Python 3",
      "name": "python3"
    },
    "language_info": {
      "codemirror_mode": {
        "name": "ipython",
        "version": 3
      },
      "file_extension": ".py",
      "mimetype": "text/x-python",
      "name": "python",
      "nbconvert_exporter": "python",
      "pygments_lexer": "ipython3",
      "version": "3.12.6"
    }
  },
  "nbformat": 4,
  "nbformat_minor": 0
}
