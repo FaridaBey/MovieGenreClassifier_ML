{
  "cells": [
    {
      "cell_type": "code",
      "execution_count": 1,
      "metadata": {
        "colab": {
          "base_uri": "https://localhost:8080/"
        },
        "id": "PxmhuDYz5q8x",
        "outputId": "cd039ae0-94b5-45d5-df8b-38dd3a1450e5"
      },
      "outputs": [
        {
          "output_type": "stream",
          "name": "stdout",
          "text": [
            "Mounted at /content/drive\n"
          ]
        }
      ],
      "source": [
        "from google.colab import drive\n",
        "drive.mount('/content/drive')"
      ]
    },
    {
      "cell_type": "markdown",
      "metadata": {
        "id": "ToMq22L7MQuH"
      },
      "source": [
        "# Neural Networks"
      ]
    },
    {
      "cell_type": "markdown",
      "metadata": {
        "id": "LSxl1EetMDsQ"
      },
      "source": [
        "# Import"
      ]
    },
    {
      "cell_type": "code",
      "execution_count": 2,
      "metadata": {
        "id": "YjmRZZ3V6yCv"
      },
      "outputs": [],
      "source": [
        "import numpy as np\n",
        "import pandas as pd\n",
        "import tensorflow as tf\n",
        "from tensorflow.keras.models import Sequential\n",
        "from tensorflow.keras.layers import Dense, Dropout\n",
        "from tensorflow.keras.optimizers import Adam\n",
        "from tensorflow.keras.callbacks import EarlyStopping\n",
        "from sklearn.metrics import classification_report\n"
      ]
    },
    {
      "cell_type": "markdown",
      "metadata": {
        "id": "8my5hyjaMF1s"
      },
      "source": [
        "# Load"
      ]
    },
    {
      "cell_type": "code",
      "execution_count": 3,
      "metadata": {
        "id": "5EpQ-U5XKFy7"
      },
      "outputs": [],
      "source": [
        "# Load dataset\n",
        "train = pd.read_csv('/content/drive/MyDrive/ML dataset /train.csv')\n",
        "test = pd.read_csv('/content/drive/MyDrive/ML dataset /test.csv')"
      ]
    },
    {
      "cell_type": "markdown",
      "metadata": {
        "id": "6uWsJT9dMITD"
      },
      "source": [
        "# Split"
      ]
    },
    {
      "cell_type": "code",
      "execution_count": 4,
      "metadata": {
        "id": "d0dvMBCfKIMz"
      },
      "outputs": [],
      "source": [
        "X_train = train.drop(columns=[col for col in train.columns if isinstance(col, str) and col.startswith('genre_')])\n",
        "y_train = train[[col for col in train.columns if isinstance(col, str) and col.startswith('genre_')]]\n",
        "X_test = test.drop(columns=[col for col in test.columns if isinstance(col, str) and col.startswith('genre_')])\n",
        "y_test = test[[col for col in test.columns if isinstance(col, str) and col.startswith('genre_')]]"
      ]
    },
    {
      "cell_type": "code",
      "execution_count": 5,
      "metadata": {
        "colab": {
          "base_uri": "https://localhost:8080/"
        },
        "id": "NUlrvbiFKNjQ",
        "outputId": "95597f64-846b-4680-a758-24186e3d7356"
      },
      "outputs": [
        {
          "output_type": "stream",
          "name": "stdout",
          "text": [
            "(130629, 1515)\n",
            "(130629, 19)\n",
            "(32658, 1515)\n",
            "(32658, 19)\n"
          ]
        }
      ],
      "source": [
        "print(X_train.shape)\n",
        "print(y_train.shape)\n",
        "print(X_test.shape)\n",
        "print(y_test.shape)"
      ]
    },
    {
      "cell_type": "markdown",
      "metadata": {
        "id": "sbs3RDKxMLCj"
      },
      "source": [
        "# Training"
      ]
    },
    {
      "cell_type": "code",
      "source": [
        "# Convert training and test datasets to int8\n",
        "X_train = X_train.astype(np.int8)\n",
        "y_train = y_train.astype(np.int8)\n",
        "X_test = X_test.astype(np.int8)\n",
        "y_test = y_test.astype(np.int8)"
      ],
      "metadata": {
        "id": "_fJHxjaxUSSw"
      },
      "execution_count": 6,
      "outputs": []
    },
    {
      "cell_type": "code",
      "execution_count": 7,
      "metadata": {
        "colab": {
          "base_uri": "https://localhost:8080/"
        },
        "id": "9LcajffHKZ3R",
        "outputId": "cf5158c9-854b-40ef-b6f5-acf896de884f"
      },
      "outputs": [
        {
          "output_type": "stream",
          "name": "stderr",
          "text": [
            "/usr/local/lib/python3.10/dist-packages/keras/src/layers/core/dense.py:87: UserWarning: Do not pass an `input_shape`/`input_dim` argument to a layer. When using Sequential models, prefer using an `Input(shape)` object as the first layer in the model instead.\n",
            "  super().__init__(activity_regularizer=activity_regularizer, **kwargs)\n"
          ]
        }
      ],
      "source": [
        "# Define the model architecture\n",
        "model = Sequential([\n",
        "    Dense(512, activation='relu', input_shape=(1515,)),\n",
        "    Dropout(0.3),\n",
        "    Dense(256, activation='relu'),\n",
        "    Dropout(0.3),\n",
        "    Dense(128, activation='relu'),\n",
        "    Dropout(0.3),\n",
        "    Dense(19, activation='sigmoid')  # 19 output units for multilabel classification\n",
        "])"
      ]
    },
    {
      "cell_type": "code",
      "source": [
        "# Compile the model with binary cross-entropy loss and Adam optimizer\n",
        "model.compile(optimizer=Adam(learning_rate=0.001),\n",
        "              loss='binary_crossentropy',\n",
        "              metrics=['accuracy'])\n",
        "\n",
        "early_stopping = EarlyStopping(monitor='val_loss', patience=5, restore_best_weights=True)\n",
        "\n",
        "# Train the model with early stopping\n",
        "history = model.fit(\n",
        "    X_train, y_train,\n",
        "    epochs=100,  # Set high enough to allow potential improvement\n",
        "    batch_size=128,\n",
        "    validation_data=(X_test, y_test),\n",
        "    callbacks=[early_stopping]\n",
        ")\n",
        "\n",
        "# Evaluate the model on the test set\n",
        "test_loss, test_accuracy = model.evaluate(X_test, y_test)\n",
        "print(f\"Test Loss: {test_loss}\")\n",
        "print(f\"Test Accuracy: {test_accuracy}\")\n"
      ],
      "metadata": {
        "colab": {
          "base_uri": "https://localhost:8080/"
        },
        "id": "IUlZxRkNVF1r",
        "outputId": "79a19762-2c09-4906-ce1e-93f67b97d2e6"
      },
      "execution_count": 8,
      "outputs": [
        {
          "output_type": "stream",
          "name": "stdout",
          "text": [
            "Epoch 1/100\n",
            "\u001b[1m1021/1021\u001b[0m \u001b[32m━━━━━━━━━━━━━━━━━━━━\u001b[0m\u001b[37m\u001b[0m \u001b[1m28s\u001b[0m 25ms/step - accuracy: 0.2221 - loss: 0.3110 - val_accuracy: 0.2615 - val_loss: 0.2603\n",
            "Epoch 2/100\n",
            "\u001b[1m1021/1021\u001b[0m \u001b[32m━━━━━━━━━━━━━━━━━━━━\u001b[0m\u001b[37m\u001b[0m \u001b[1m25s\u001b[0m 25ms/step - accuracy: 0.2628 - loss: 0.2652 - val_accuracy: 0.2780 - val_loss: 0.2583\n",
            "Epoch 3/100\n",
            "\u001b[1m1021/1021\u001b[0m \u001b[32m━━━━━━━━━━━━━━━━━━━━\u001b[0m\u001b[37m\u001b[0m \u001b[1m24s\u001b[0m 24ms/step - accuracy: 0.2676 - loss: 0.2622 - val_accuracy: 0.2816 - val_loss: 0.2569\n",
            "Epoch 4/100\n",
            "\u001b[1m1021/1021\u001b[0m \u001b[32m━━━━━━━━━━━━━━━━━━━━\u001b[0m\u001b[37m\u001b[0m \u001b[1m41s\u001b[0m 24ms/step - accuracy: 0.2761 - loss: 0.2605 - val_accuracy: 0.2769 - val_loss: 0.2558\n",
            "Epoch 5/100\n",
            "\u001b[1m1021/1021\u001b[0m \u001b[32m━━━━━━━━━━━━━━━━━━━━\u001b[0m\u001b[37m\u001b[0m \u001b[1m41s\u001b[0m 24ms/step - accuracy: 0.2781 - loss: 0.2599 - val_accuracy: 0.2859 - val_loss: 0.2551\n",
            "Epoch 6/100\n",
            "\u001b[1m1021/1021\u001b[0m \u001b[32m━━━━━━━━━━━━━━━━━━━━\u001b[0m\u001b[37m\u001b[0m \u001b[1m24s\u001b[0m 23ms/step - accuracy: 0.2819 - loss: 0.2590 - val_accuracy: 0.2838 - val_loss: 0.2550\n",
            "Epoch 7/100\n",
            "\u001b[1m1021/1021\u001b[0m \u001b[32m━━━━━━━━━━━━━━━━━━━━\u001b[0m\u001b[37m\u001b[0m \u001b[1m42s\u001b[0m 24ms/step - accuracy: 0.2827 - loss: 0.2580 - val_accuracy: 0.2929 - val_loss: 0.2548\n",
            "Epoch 8/100\n",
            "\u001b[1m1021/1021\u001b[0m \u001b[32m━━━━━━━━━━━━━━━━━━━━\u001b[0m\u001b[37m\u001b[0m \u001b[1m41s\u001b[0m 24ms/step - accuracy: 0.2865 - loss: 0.2579 - val_accuracy: 0.2773 - val_loss: 0.2546\n",
            "Epoch 9/100\n",
            "\u001b[1m1021/1021\u001b[0m \u001b[32m━━━━━━━━━━━━━━━━━━━━\u001b[0m\u001b[37m\u001b[0m \u001b[1m42s\u001b[0m 25ms/step - accuracy: 0.2845 - loss: 0.2579 - val_accuracy: 0.2906 - val_loss: 0.2542\n",
            "Epoch 10/100\n",
            "\u001b[1m1021/1021\u001b[0m \u001b[32m━━━━━━━━━━━━━━━━━━━━\u001b[0m\u001b[37m\u001b[0m \u001b[1m41s\u001b[0m 25ms/step - accuracy: 0.2854 - loss: 0.2574 - val_accuracy: 0.2925 - val_loss: 0.2543\n",
            "Epoch 11/100\n",
            "\u001b[1m1021/1021\u001b[0m \u001b[32m━━━━━━━━━━━━━━━━━━━━\u001b[0m\u001b[37m\u001b[0m \u001b[1m25s\u001b[0m 24ms/step - accuracy: 0.2887 - loss: 0.2569 - val_accuracy: 0.2821 - val_loss: 0.2544\n",
            "Epoch 12/100\n",
            "\u001b[1m1021/1021\u001b[0m \u001b[32m━━━━━━━━━━━━━━━━━━━━\u001b[0m\u001b[37m\u001b[0m \u001b[1m41s\u001b[0m 24ms/step - accuracy: 0.2897 - loss: 0.2557 - val_accuracy: 0.2898 - val_loss: 0.2541\n",
            "Epoch 13/100\n",
            "\u001b[1m1021/1021\u001b[0m \u001b[32m━━━━━━━━━━━━━━━━━━━━\u001b[0m\u001b[37m\u001b[0m \u001b[1m25s\u001b[0m 24ms/step - accuracy: 0.2905 - loss: 0.2560 - val_accuracy: 0.2902 - val_loss: 0.2541\n",
            "Epoch 14/100\n",
            "\u001b[1m1021/1021\u001b[0m \u001b[32m━━━━━━━━━━━━━━━━━━━━\u001b[0m\u001b[37m\u001b[0m \u001b[1m41s\u001b[0m 24ms/step - accuracy: 0.2912 - loss: 0.2557 - val_accuracy: 0.2892 - val_loss: 0.2535\n",
            "Epoch 15/100\n",
            "\u001b[1m1021/1021\u001b[0m \u001b[32m━━━━━━━━━━━━━━━━━━━━\u001b[0m\u001b[37m\u001b[0m \u001b[1m26s\u001b[0m 25ms/step - accuracy: 0.2904 - loss: 0.2560 - val_accuracy: 0.2890 - val_loss: 0.2535\n",
            "Epoch 16/100\n",
            "\u001b[1m1021/1021\u001b[0m \u001b[32m━━━━━━━━━━━━━━━━━━━━\u001b[0m\u001b[37m\u001b[0m \u001b[1m23s\u001b[0m 22ms/step - accuracy: 0.2922 - loss: 0.2557 - val_accuracy: 0.2913 - val_loss: 0.2534\n",
            "Epoch 17/100\n",
            "\u001b[1m1021/1021\u001b[0m \u001b[32m━━━━━━━━━━━━━━━━━━━━\u001b[0m\u001b[37m\u001b[0m \u001b[1m43s\u001b[0m 24ms/step - accuracy: 0.2903 - loss: 0.2550 - val_accuracy: 0.2940 - val_loss: 0.2535\n",
            "Epoch 18/100\n",
            "\u001b[1m1021/1021\u001b[0m \u001b[32m━━━━━━━━━━━━━━━━━━━━\u001b[0m\u001b[37m\u001b[0m \u001b[1m39s\u001b[0m 23ms/step - accuracy: 0.2938 - loss: 0.2548 - val_accuracy: 0.2925 - val_loss: 0.2536\n",
            "Epoch 19/100\n",
            "\u001b[1m1021/1021\u001b[0m \u001b[32m━━━━━━━━━━━━━━━━━━━━\u001b[0m\u001b[37m\u001b[0m \u001b[1m42s\u001b[0m 24ms/step - accuracy: 0.2951 - loss: 0.2546 - val_accuracy: 0.2831 - val_loss: 0.2535\n",
            "Epoch 20/100\n",
            "\u001b[1m1021/1021\u001b[0m \u001b[32m━━━━━━━━━━━━━━━━━━━━\u001b[0m\u001b[37m\u001b[0m \u001b[1m24s\u001b[0m 23ms/step - accuracy: 0.2957 - loss: 0.2546 - val_accuracy: 0.2935 - val_loss: 0.2537\n",
            "Epoch 21/100\n",
            "\u001b[1m1021/1021\u001b[0m \u001b[32m━━━━━━━━━━━━━━━━━━━━\u001b[0m\u001b[37m\u001b[0m \u001b[1m42s\u001b[0m 24ms/step - accuracy: 0.2970 - loss: 0.2543 - val_accuracy: 0.2948 - val_loss: 0.2529\n",
            "Epoch 22/100\n",
            "\u001b[1m1021/1021\u001b[0m \u001b[32m━━━━━━━━━━━━━━━━━━━━\u001b[0m\u001b[37m\u001b[0m \u001b[1m41s\u001b[0m 25ms/step - accuracy: 0.2983 - loss: 0.2541 - val_accuracy: 0.2892 - val_loss: 0.2530\n",
            "Epoch 23/100\n",
            "\u001b[1m1021/1021\u001b[0m \u001b[32m━━━━━━━━━━━━━━━━━━━━\u001b[0m\u001b[37m\u001b[0m \u001b[1m41s\u001b[0m 25ms/step - accuracy: 0.2945 - loss: 0.2543 - val_accuracy: 0.2969 - val_loss: 0.2532\n",
            "Epoch 24/100\n",
            "\u001b[1m1021/1021\u001b[0m \u001b[32m━━━━━━━━━━━━━━━━━━━━\u001b[0m\u001b[37m\u001b[0m \u001b[1m25s\u001b[0m 25ms/step - accuracy: 0.2968 - loss: 0.2546 - val_accuracy: 0.2992 - val_loss: 0.2528\n",
            "Epoch 25/100\n",
            "\u001b[1m1021/1021\u001b[0m \u001b[32m━━━━━━━━━━━━━━━━━━━━\u001b[0m\u001b[37m\u001b[0m \u001b[1m40s\u001b[0m 23ms/step - accuracy: 0.2977 - loss: 0.2540 - val_accuracy: 0.2989 - val_loss: 0.2528\n",
            "Epoch 26/100\n",
            "\u001b[1m1021/1021\u001b[0m \u001b[32m━━━━━━━━━━━━━━━━━━━━\u001b[0m\u001b[37m\u001b[0m \u001b[1m24s\u001b[0m 24ms/step - accuracy: 0.2963 - loss: 0.2544 - val_accuracy: 0.2940 - val_loss: 0.2529\n",
            "Epoch 27/100\n",
            "\u001b[1m1021/1021\u001b[0m \u001b[32m━━━━━━━━━━━━━━━━━━━━\u001b[0m\u001b[37m\u001b[0m \u001b[1m25s\u001b[0m 25ms/step - accuracy: 0.2987 - loss: 0.2534 - val_accuracy: 0.2944 - val_loss: 0.2529\n",
            "Epoch 28/100\n",
            "\u001b[1m1021/1021\u001b[0m \u001b[32m━━━━━━━━━━━━━━━━━━━━\u001b[0m\u001b[37m\u001b[0m \u001b[1m40s\u001b[0m 24ms/step - accuracy: 0.2993 - loss: 0.2542 - val_accuracy: 0.2986 - val_loss: 0.2527\n",
            "Epoch 29/100\n",
            "\u001b[1m1021/1021\u001b[0m \u001b[32m━━━━━━━━━━━━━━━━━━━━\u001b[0m\u001b[37m\u001b[0m \u001b[1m24s\u001b[0m 23ms/step - accuracy: 0.2973 - loss: 0.2534 - val_accuracy: 0.2935 - val_loss: 0.2527\n",
            "Epoch 30/100\n",
            "\u001b[1m1021/1021\u001b[0m \u001b[32m━━━━━━━━━━━━━━━━━━━━\u001b[0m\u001b[37m\u001b[0m \u001b[1m41s\u001b[0m 23ms/step - accuracy: 0.2996 - loss: 0.2530 - val_accuracy: 0.2976 - val_loss: 0.2528\n",
            "Epoch 31/100\n",
            "\u001b[1m1021/1021\u001b[0m \u001b[32m━━━━━━━━━━━━━━━━━━━━\u001b[0m\u001b[37m\u001b[0m \u001b[1m41s\u001b[0m 24ms/step - accuracy: 0.2979 - loss: 0.2531 - val_accuracy: 0.2966 - val_loss: 0.2528\n",
            "Epoch 32/100\n",
            "\u001b[1m1021/1021\u001b[0m \u001b[32m━━━━━━━━━━━━━━━━━━━━\u001b[0m\u001b[37m\u001b[0m \u001b[1m25s\u001b[0m 25ms/step - accuracy: 0.3004 - loss: 0.2530 - val_accuracy: 0.2989 - val_loss: 0.2529\n",
            "Epoch 33/100\n",
            "\u001b[1m1021/1021\u001b[0m \u001b[32m━━━━━━━━━━━━━━━━━━━━\u001b[0m\u001b[37m\u001b[0m \u001b[1m41s\u001b[0m 24ms/step - accuracy: 0.2995 - loss: 0.2530 - val_accuracy: 0.2891 - val_loss: 0.2529\n",
            "Epoch 34/100\n",
            "\u001b[1m1021/1021\u001b[0m \u001b[32m━━━━━━━━━━━━━━━━━━━━\u001b[0m\u001b[37m\u001b[0m \u001b[1m40s\u001b[0m 24ms/step - accuracy: 0.2989 - loss: 0.2530 - val_accuracy: 0.3002 - val_loss: 0.2528\n",
            "\u001b[1m1021/1021\u001b[0m \u001b[32m━━━━━━━━━━━━━━━━━━━━\u001b[0m\u001b[37m\u001b[0m \u001b[1m3s\u001b[0m 3ms/step - accuracy: 0.2944 - loss: 0.2547\n",
            "Test Loss: 0.2526942193508148\n",
            "Test Accuracy: 0.2934962213039398\n"
          ]
        }
      ]
    },
    {
      "cell_type": "code",
      "source": [
        "# Predict probabilities for the test set\n",
        "y_pred_proba = model.predict(X_test)\n",
        "\n",
        "# Convert probabilities to binary predictions (threshold = 0.5)\n",
        "y_pred = np.round(y_pred_proba)\n",
        "# Extract the genre column names and remove the 'genre_' prefix\n",
        "genre_columns = [col.replace('genre_', '') for col in train.columns if isinstance(col, str) and col.startswith('genre_')]\n",
        "# Print classification report\n",
        "print(classification_report(y_test, y_pred, target_names=genre_columns))"
      ],
      "metadata": {
        "colab": {
          "base_uri": "https://localhost:8080/"
        },
        "id": "qvsLxcXQZ8ce",
        "outputId": "27411738-7712-489a-9be2-55ff97f989aa"
      },
      "execution_count": 9,
      "outputs": [
        {
          "output_type": "stream",
          "name": "stdout",
          "text": [
            "\u001b[1m1021/1021\u001b[0m \u001b[32m━━━━━━━━━━━━━━━━━━━━\u001b[0m\u001b[37m\u001b[0m \u001b[1m4s\u001b[0m 4ms/step\n",
            "                 precision    recall  f1-score   support\n",
            "\n",
            "         Action       0.68      0.04      0.08      2988\n",
            "      Adventure       0.60      0.01      0.01      1681\n",
            "      Animation       0.63      0.03      0.05      2603\n",
            "         Comedy       0.71      0.01      0.02      8162\n",
            "          Crime       0.00      0.00      0.00      2220\n",
            "    Documentary       0.60      0.03      0.06      5998\n",
            "          Drama       0.58      0.25      0.35     12017\n",
            "         Family       0.00      0.00      0.00      1683\n",
            "        Fantasy       0.00      0.00      0.00      1434\n",
            "        History       0.00      0.00      0.00      1002\n",
            "         Horror       0.00      0.00      0.00      2961\n",
            "          Music       0.00      0.00      0.00      1993\n",
            "        Mystery       0.00      0.00      0.00      1279\n",
            "        Romance       0.00      0.00      0.00      3280\n",
            "Science Fiction       1.00      0.00      0.00      1360\n",
            "       TV Movie       0.80      0.00      0.01      1483\n",
            "       Thriller       0.80      0.00      0.00      3297\n",
            "            War       0.50      0.00      0.01       706\n",
            "        Western       0.00      0.00      0.00       494\n",
            "\n",
            "      micro avg       0.59      0.06      0.11     56641\n",
            "      macro avg       0.36      0.02      0.03     56641\n",
            "   weighted avg       0.47      0.06      0.09     56641\n",
            "    samples avg       0.11      0.07      0.08     56641\n",
            "\n"
          ]
        },
        {
          "output_type": "stream",
          "name": "stderr",
          "text": [
            "/usr/local/lib/python3.10/dist-packages/sklearn/metrics/_classification.py:1531: UndefinedMetricWarning: Precision is ill-defined and being set to 0.0 in labels with no predicted samples. Use `zero_division` parameter to control this behavior.\n",
            "  _warn_prf(average, modifier, f\"{metric.capitalize()} is\", len(result))\n",
            "/usr/local/lib/python3.10/dist-packages/sklearn/metrics/_classification.py:1531: UndefinedMetricWarning: Precision is ill-defined and being set to 0.0 in samples with no predicted labels. Use `zero_division` parameter to control this behavior.\n",
            "  _warn_prf(average, modifier, f\"{metric.capitalize()} is\", len(result))\n"
          ]
        }
      ]
    }
  ],
  "metadata": {
    "colab": {
      "provenance": []
    },
    "kernelspec": {
      "display_name": "Python 3",
      "name": "python3"
    },
    "language_info": {
      "name": "python"
    }
  },
  "nbformat": 4,
  "nbformat_minor": 0
}