{
  "cells": [
    {
      "cell_type": "code",
      "execution_count": 1,
      "metadata": {
        "colab": {
          "base_uri": "https://localhost:8080/"
        },
        "id": "EwWi7kkXV1uM",
        "outputId": "842638b5-5008-45de-bd00-8531b29c440c"
      },
      "outputs": [
        {
          "name": "stdout",
          "output_type": "stream",
          "text": [
            "Mounted at /content/drive\n"
          ]
        }
      ],
      "source": [
        "from google.colab import drive\n",
        "drive.mount('/content/drive')"
      ]
    },
    {
      "cell_type": "markdown",
      "metadata": {},
      "source": [
        "# Decision Trees [CART]"
      ]
    },
    {
      "cell_type": "markdown",
      "metadata": {
        "id": "HYVTUrLaKs2P"
      },
      "source": [
        "# Import"
      ]
    },
    {
      "cell_type": "code",
      "execution_count": 2,
      "metadata": {
        "id": "9cip0I2nKs2P"
      },
      "outputs": [],
      "source": [
        "import pandas as pd\n",
        "import numpy as np\n",
        "from sklearn.model_selection import KFold\n",
        "from sklearn.tree import DecisionTreeClassifier\n",
        "from sklearn.metrics import classification_report"
      ]
    },
    {
      "cell_type": "markdown",
      "metadata": {
        "id": "nzFu0VtdKs2R"
      },
      "source": [
        "# Load"
      ]
    },
    {
      "cell_type": "code",
      "execution_count": 3,
      "metadata": {
        "id": "leJyqRf5Ks2R"
      },
      "outputs": [],
      "source": [
        "# Load dataset\n",
        "train = pd.read_csv('/content/drive/MyDrive/ML dataset /train.csv')\n",
        "test = pd.read_csv('/content/drive/MyDrive/ML dataset /test.csv')"
      ]
    },
    {
      "cell_type": "markdown",
      "metadata": {
        "id": "jmTN_F0vKs2S"
      },
      "source": [
        "# Split"
      ]
    },
    {
      "cell_type": "code",
      "execution_count": 4,
      "metadata": {
        "id": "sJUKdWqNKs2S"
      },
      "outputs": [],
      "source": [
        "X_train = train.drop(columns=[col for col in train.columns if isinstance(col, str) and col.startswith('genre_')])\n",
        "y_train = train[[col for col in train.columns if isinstance(col, str) and col.startswith('genre_')]]\n",
        "X_test = test.drop(columns=[col for col in test.columns if isinstance(col, str) and col.startswith('genre_')])\n",
        "y_test = test[[col for col in test.columns if isinstance(col, str) and col.startswith('genre_')]]"
      ]
    },
    {
      "cell_type": "code",
      "execution_count": 5,
      "metadata": {
        "colab": {
          "base_uri": "https://localhost:8080/"
        },
        "id": "XAmZSMy8aZIh",
        "outputId": "1f707b34-034f-4684-a88c-6656697913e4"
      },
      "outputs": [
        {
          "name": "stdout",
          "output_type": "stream",
          "text": [
            "(130629, 1515)\n",
            "(130629, 19)\n",
            "(32658, 1515)\n",
            "(32658, 19)\n"
          ]
        }
      ],
      "source": [
        "print(X_train.shape)\n",
        "print(y_train.shape)\n",
        "print(X_test.shape)\n",
        "print(y_test.shape)"
      ]
    },
    {
      "cell_type": "markdown",
      "metadata": {
        "id": "-_NymzjaKs2T"
      },
      "source": [
        "# Training"
      ]
    },
    {
      "cell_type": "code",
      "execution_count": 6,
      "metadata": {
        "id": "xDzdBTsj0ZAb"
      },
      "outputs": [],
      "source": [
        "KF = KFold(n_splits=5)\n",
        "\n",
        "def Model_Train(Model, X, Y):\n",
        "    Preds = []\n",
        "    for i, j in KF.split(X):\n",
        "        Train_X = X.iloc[i]\n",
        "        Test_X = X.iloc[j]\n",
        "        Train_Y = Y.iloc[i]\n",
        "\n",
        "        Model.fit(Train_X, Train_Y)\n",
        "        Pred_Y = Model.predict(Test_X)\n",
        "        Preds.append(Pred_Y)\n",
        "    return Preds"
      ]
    },
    {
      "cell_type": "code",
      "execution_count": 7,
      "metadata": {
        "id": "Ie-kNpDFHGIJ"
      },
      "outputs": [],
      "source": [
        "# Initialize the Decision Tree Classifier\n",
        "Cart = DecisionTreeClassifier()\n",
        "\n",
        "# Train the model\n",
        "Model_Train(Cart, X_train, y_train)\n",
        "\n",
        "# Make predictions on the test set\n",
        "y_pred = Cart.predict(X_test)"
      ]
    },
    {
      "cell_type": "code",
      "execution_count": 8,
      "metadata": {
        "colab": {
          "base_uri": "https://localhost:8080/"
        },
        "id": "1xp99HaBzI9t",
        "outputId": "bd5a7027-d931-46c3-c7fd-b031c84255ad"
      },
      "outputs": [
        {
          "name": "stdout",
          "output_type": "stream",
          "text": [
            "Decision Trees:\n",
            "-----------------------------------------------------\n",
            "                 precision    recall  f1-score   support\n",
            "\n",
            "         Action       0.19      0.21      0.20      2988\n",
            "      Adventure       0.10      0.11      0.11      1681\n",
            "      Animation       0.15      0.15      0.15      2603\n",
            "         Comedy       0.30      0.29      0.29      8162\n",
            "          Crime       0.11      0.12      0.12      2220\n",
            "    Documentary       0.28      0.27      0.27      5998\n",
            "          Drama       0.42      0.42      0.42     12017\n",
            "         Family       0.09      0.10      0.09      1683\n",
            "        Fantasy       0.07      0.08      0.07      1434\n",
            "        History       0.05      0.05      0.05      1002\n",
            "         Horror       0.14      0.15      0.14      2961\n",
            "          Music       0.09      0.09      0.09      1993\n",
            "        Mystery       0.06      0.07      0.06      1279\n",
            "        Romance       0.15      0.16      0.15      3280\n",
            "Science Fiction       0.08      0.10      0.09      1360\n",
            "       TV Movie       0.12      0.12      0.12      1483\n",
            "       Thriller       0.16      0.18      0.17      3297\n",
            "            War       0.05      0.05      0.05       706\n",
            "        Western       0.05      0.05      0.05       494\n",
            "\n",
            "      micro avg       0.22      0.23      0.23     56641\n",
            "      macro avg       0.14      0.14      0.14     56641\n",
            "   weighted avg       0.23      0.23      0.23     56641\n",
            "    samples avg       0.24      0.24      0.22     56641\n",
            "\n"
          ]
        }
      ],
      "source": [
        "print('Decision Trees:')\n",
        "print('-----------------------------------------------------')\n",
        "genre_columns = [col.replace('genre_', '') for col in train.columns if isinstance(col, str) and col.startswith('genre_')]\n",
        "print(classification_report(y_test, y_pred, target_names=genre_columns, zero_division=0))"
      ]
    }
  ],
  "metadata": {
    "colab": {
      "provenance": []
    },
    "kernelspec": {
      "display_name": "Python 3",
      "name": "python3"
    },
    "language_info": {
      "codemirror_mode": {
        "name": "ipython",
        "version": 3
      },
      "file_extension": ".py",
      "mimetype": "text/x-python",
      "name": "python",
      "nbconvert_exporter": "python",
      "pygments_lexer": "ipython3",
      "version": "3.12.6"
    }
  },
  "nbformat": 4,
  "nbformat_minor": 0
}
