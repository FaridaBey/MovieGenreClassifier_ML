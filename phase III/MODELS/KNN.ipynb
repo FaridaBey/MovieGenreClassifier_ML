{
  "cells": [
    {
      "cell_type": "code",
      "execution_count": 1,
      "metadata": {
        "colab": {
          "base_uri": "https://localhost:8080/"
        },
        "id": "EwWi7kkXV1uM",
        "outputId": "0868f017-3831-4afd-dae6-cb1bee6415ac"
      },
      "outputs": [
        {
          "output_type": "stream",
          "name": "stdout",
          "text": [
            "Drive already mounted at /content/drive; to attempt to forcibly remount, call drive.mount(\"/content/drive\", force_remount=True).\n"
          ]
        }
      ],
      "source": [
        "from google.colab import drive\n",
        "drive.mount('/content/drive')"
      ]
    },
    {
      "cell_type": "markdown",
      "metadata": {
        "id": "9I-OJwUgZ-IX"
      },
      "source": [
        "# GPU Activation"
      ]
    },
    {
      "cell_type": "code",
      "execution_count": 2,
      "metadata": {
        "colab": {
          "base_uri": "https://localhost:8080/"
        },
        "id": "0Z2W9NtHYJRi",
        "outputId": "f7fab96b-3e42-4b28-b739-955b331cbd5b"
      },
      "outputs": [
        {
          "output_type": "stream",
          "name": "stdout",
          "text": [
            "Fri Oct 25 13:52:17 2024       \n",
            "+---------------------------------------------------------------------------------------+\n",
            "| NVIDIA-SMI 535.104.05             Driver Version: 535.104.05   CUDA Version: 12.2     |\n",
            "|-----------------------------------------+----------------------+----------------------+\n",
            "| GPU  Name                 Persistence-M | Bus-Id        Disp.A | Volatile Uncorr. ECC |\n",
            "| Fan  Temp   Perf          Pwr:Usage/Cap |         Memory-Usage | GPU-Util  Compute M. |\n",
            "|                                         |                      |               MIG M. |\n",
            "|=========================================+======================+======================|\n",
            "|   0  Tesla T4                       Off | 00000000:00:04.0 Off |                    0 |\n",
            "| N/A   69C    P8              11W /  70W |      0MiB / 15360MiB |      0%      Default |\n",
            "|                                         |                      |                  N/A |\n",
            "+-----------------------------------------+----------------------+----------------------+\n",
            "                                                                                         \n",
            "+---------------------------------------------------------------------------------------+\n",
            "| Processes:                                                                            |\n",
            "|  GPU   GI   CI        PID   Type   Process name                            GPU Memory |\n",
            "|        ID   ID                                                             Usage      |\n",
            "|=======================================================================================|\n",
            "|  No running processes found                                                           |\n",
            "+---------------------------------------------------------------------------------------+\n"
          ]
        }
      ],
      "source": [
        "!nvidia-smi"
      ]
    },
    {
      "cell_type": "code",
      "execution_count": 3,
      "metadata": {
        "colab": {
          "base_uri": "https://localhost:8080/"
        },
        "id": "zuz0pamjYMdK",
        "outputId": "0980b07a-2070-40eb-eddb-68c32667f179"
      },
      "outputs": [
        {
          "output_type": "stream",
          "name": "stdout",
          "text": [
            "fatal: destination path 'rapidsai-csp-utils' already exists and is not an empty directory.\n",
            "Installing RAPIDS remaining 24.10.* libraries\n",
            "Looking in indexes: https://pypi.org/simple, https://pypi.nvidia.com\n",
            "Requirement already satisfied: cudf-cu12==24.10.* in /usr/local/lib/python3.10/dist-packages (24.10.1)\n",
            "Requirement already satisfied: cuml-cu12==24.10.* in /usr/local/lib/python3.10/dist-packages (24.10.0)\n",
            "Requirement already satisfied: cugraph-cu12==24.10.* in /usr/local/lib/python3.10/dist-packages (24.10.0)\n",
            "Requirement already satisfied: cuspatial-cu12==24.10.* in /usr/local/lib/python3.10/dist-packages (24.10.0)\n",
            "Requirement already satisfied: cuproj-cu12==24.10.* in /usr/local/lib/python3.10/dist-packages (24.10.0)\n",
            "Requirement already satisfied: cuxfilter-cu12==24.10.* in /usr/local/lib/python3.10/dist-packages (24.10.0)\n",
            "Requirement already satisfied: cucim-cu12==24.10.* in /usr/local/lib/python3.10/dist-packages (24.10.0)\n",
            "Requirement already satisfied: pylibraft-cu12==24.10.* in /usr/local/lib/python3.10/dist-packages (24.10.0)\n",
            "Requirement already satisfied: raft-dask-cu12==24.10.* in /usr/local/lib/python3.10/dist-packages (24.10.0)\n",
            "Requirement already satisfied: nx-cugraph-cu12==24.10.* in /usr/local/lib/python3.10/dist-packages (24.10.0)\n",
            "Requirement already satisfied: aiohttp in /usr/local/lib/python3.10/dist-packages (3.10.10)\n",
            "Requirement already satisfied: cachetools in /usr/local/lib/python3.10/dist-packages (from cudf-cu12==24.10.*) (5.5.0)\n",
            "Requirement already satisfied: cuda-python<13.0a0,>=12.0 in /usr/local/lib/python3.10/dist-packages (from cudf-cu12==24.10.*) (12.2.1)\n",
            "Requirement already satisfied: cupy-cuda12x>=12.0.0 in /usr/local/lib/python3.10/dist-packages (from cudf-cu12==24.10.*) (12.2.0)\n",
            "Requirement already satisfied: fsspec>=0.6.0 in /usr/local/lib/python3.10/dist-packages (from cudf-cu12==24.10.*) (2024.6.1)\n",
            "Requirement already satisfied: libcudf-cu12==24.10.* in /usr/local/lib/python3.10/dist-packages (from cudf-cu12==24.10.*) (24.10.1)\n",
            "Requirement already satisfied: numba>=0.57 in /usr/local/lib/python3.10/dist-packages (from cudf-cu12==24.10.*) (0.60.0)\n",
            "Requirement already satisfied: numpy<3.0a0,>=1.23 in /usr/local/lib/python3.10/dist-packages (from cudf-cu12==24.10.*) (1.26.4)\n",
            "Requirement already satisfied: nvtx>=0.2.1 in /usr/local/lib/python3.10/dist-packages (from cudf-cu12==24.10.*) (0.2.10)\n",
            "Requirement already satisfied: packaging in /usr/local/lib/python3.10/dist-packages (from cudf-cu12==24.10.*) (24.1)\n",
            "Requirement already satisfied: pandas<2.2.3dev0,>=2.0 in /usr/local/lib/python3.10/dist-packages (from cudf-cu12==24.10.*) (2.2.2)\n",
            "Requirement already satisfied: pyarrow<18.0.0a0,>=14.0.0 in /usr/local/lib/python3.10/dist-packages (from cudf-cu12==24.10.*) (16.1.0)\n",
            "Requirement already satisfied: pylibcudf-cu12==24.10.* in /usr/local/lib/python3.10/dist-packages (from cudf-cu12==24.10.*) (24.10.1)\n",
            "Requirement already satisfied: pynvjitlink-cu12 in /usr/local/lib/python3.10/dist-packages (from cudf-cu12==24.10.*) (0.3.0)\n",
            "Requirement already satisfied: rich in /usr/local/lib/python3.10/dist-packages (from cudf-cu12==24.10.*) (13.9.3)\n",
            "Requirement already satisfied: rmm-cu12==24.10.* in /usr/local/lib/python3.10/dist-packages (from cudf-cu12==24.10.*) (24.10.0)\n",
            "Requirement already satisfied: typing_extensions>=4.0.0 in /usr/local/lib/python3.10/dist-packages (from cudf-cu12==24.10.*) (4.12.2)\n",
            "Requirement already satisfied: cuvs-cu12==24.10.* in /usr/local/lib/python3.10/dist-packages (from cuml-cu12==24.10.*) (24.10.0)\n",
            "Requirement already satisfied: dask-cuda==24.10.* in /usr/local/lib/python3.10/dist-packages (from cuml-cu12==24.10.*) (24.10.0)\n",
            "Requirement already satisfied: dask-cudf-cu12==24.10.* in /usr/local/lib/python3.10/dist-packages (from cuml-cu12==24.10.*) (24.10.1)\n",
            "Requirement already satisfied: joblib>=0.11 in /usr/local/lib/python3.10/dist-packages (from cuml-cu12==24.10.*) (1.4.2)\n",
            "Requirement already satisfied: nvidia-cublas-cu12 in /usr/local/lib/python3.10/dist-packages (from cuml-cu12==24.10.*) (12.6.3.3)\n",
            "Requirement already satisfied: nvidia-cufft-cu12 in /usr/local/lib/python3.10/dist-packages (from cuml-cu12==24.10.*) (11.3.0.4)\n",
            "Requirement already satisfied: nvidia-curand-cu12 in /usr/local/lib/python3.10/dist-packages (from cuml-cu12==24.10.*) (10.3.7.77)\n",
            "Requirement already satisfied: nvidia-cusolver-cu12 in /usr/local/lib/python3.10/dist-packages (from cuml-cu12==24.10.*) (11.7.1.2)\n",
            "Requirement already satisfied: nvidia-cusparse-cu12 in /usr/local/lib/python3.10/dist-packages (from cuml-cu12==24.10.*) (12.5.4.2)\n",
            "Requirement already satisfied: rapids-dask-dependency==24.10.* in /usr/local/lib/python3.10/dist-packages (from cuml-cu12==24.10.*) (24.10.0)\n",
            "Requirement already satisfied: scipy>=1.8.0 in /usr/local/lib/python3.10/dist-packages (from cuml-cu12==24.10.*) (1.13.1)\n",
            "Requirement already satisfied: treelite==4.3.0 in /usr/local/lib/python3.10/dist-packages (from cuml-cu12==24.10.*) (4.3.0)\n",
            "Requirement already satisfied: pylibcugraph-cu12==24.10.* in /usr/local/lib/python3.10/dist-packages (from cugraph-cu12==24.10.*) (24.10.0)\n",
            "Requirement already satisfied: ucx-py-cu12==0.40.* in /usr/local/lib/python3.10/dist-packages (from cugraph-cu12==24.10.*) (0.40.0)\n",
            "Requirement already satisfied: geopandas>=1.0.0 in /usr/local/lib/python3.10/dist-packages (from cuspatial-cu12==24.10.*) (1.0.1)\n",
            "Requirement already satisfied: libcuspatial-cu12==24.10.* in /usr/local/lib/python3.10/dist-packages (from cuspatial-cu12==24.10.*) (24.10.0)\n",
            "Requirement already satisfied: bokeh>=3.1 in /usr/local/lib/python3.10/dist-packages (from cuxfilter-cu12==24.10.*) (3.4.3)\n",
            "Requirement already satisfied: datashader>=0.15 in /usr/local/lib/python3.10/dist-packages (from cuxfilter-cu12==24.10.*) (0.16.3)\n",
            "Requirement already satisfied: holoviews>=1.16.0 in /usr/local/lib/python3.10/dist-packages (from cuxfilter-cu12==24.10.*) (1.19.1)\n",
            "Requirement already satisfied: jupyter-server-proxy in /usr/local/lib/python3.10/dist-packages (from cuxfilter-cu12==24.10.*) (4.4.0)\n",
            "Requirement already satisfied: panel>=1.0 in /usr/local/lib/python3.10/dist-packages (from cuxfilter-cu12==24.10.*) (1.4.5)\n",
            "Requirement already satisfied: click in /usr/local/lib/python3.10/dist-packages (from cucim-cu12==24.10.*) (8.1.7)\n",
            "Requirement already satisfied: lazy-loader>=0.1 in /usr/local/lib/python3.10/dist-packages (from cucim-cu12==24.10.*) (0.4)\n",
            "Requirement already satisfied: scikit-image<0.25.0a0,>=0.19.0 in /usr/local/lib/python3.10/dist-packages (from cucim-cu12==24.10.*) (0.24.0)\n",
            "Requirement already satisfied: distributed-ucxx-cu12==0.40.* in /usr/local/lib/python3.10/dist-packages (from raft-dask-cu12==24.10.*) (0.40.0)\n",
            "Requirement already satisfied: networkx>=3.0 in /usr/local/lib/python3.10/dist-packages (from nx-cugraph-cu12==24.10.*) (3.4.2)\n",
            "Requirement already satisfied: pynvml<11.5,>=11.0.0 in /usr/local/lib/python3.10/dist-packages (from dask-cuda==24.10.*->cuml-cu12==24.10.*) (11.4.1)\n",
            "Requirement already satisfied: zict>=2.0.0 in /usr/local/lib/python3.10/dist-packages (from dask-cuda==24.10.*->cuml-cu12==24.10.*) (3.0.0)\n",
            "Requirement already satisfied: ucxx-cu12==0.40.* in /usr/local/lib/python3.10/dist-packages (from distributed-ucxx-cu12==0.40.*->raft-dask-cu12==24.10.*) (0.40.0)\n",
            "Requirement already satisfied: dask==2024.9.0 in /usr/local/lib/python3.10/dist-packages (from rapids-dask-dependency==24.10.*->cuml-cu12==24.10.*) (2024.9.0)\n",
            "Requirement already satisfied: distributed==2024.9.0 in /usr/local/lib/python3.10/dist-packages (from rapids-dask-dependency==24.10.*->cuml-cu12==24.10.*) (2024.9.0)\n",
            "Requirement already satisfied: dask-expr==1.1.14 in /usr/local/lib/python3.10/dist-packages (from rapids-dask-dependency==24.10.*->cuml-cu12==24.10.*) (1.1.14)\n",
            "Requirement already satisfied: libucx-cu12<1.18,>=1.15.0 in /usr/local/lib/python3.10/dist-packages (from ucx-py-cu12==0.40.*->cugraph-cu12==24.10.*) (1.17.0)\n",
            "Requirement already satisfied: cloudpickle>=3.0.0 in /usr/local/lib/python3.10/dist-packages (from dask==2024.9.0->rapids-dask-dependency==24.10.*->cuml-cu12==24.10.*) (3.1.0)\n",
            "Requirement already satisfied: partd>=1.4.0 in /usr/local/lib/python3.10/dist-packages (from dask==2024.9.0->rapids-dask-dependency==24.10.*->cuml-cu12==24.10.*) (1.4.2)\n",
            "Requirement already satisfied: pyyaml>=5.3.1 in /usr/local/lib/python3.10/dist-packages (from dask==2024.9.0->rapids-dask-dependency==24.10.*->cuml-cu12==24.10.*) (6.0.2)\n",
            "Requirement already satisfied: toolz>=0.10.0 in /usr/local/lib/python3.10/dist-packages (from dask==2024.9.0->rapids-dask-dependency==24.10.*->cuml-cu12==24.10.*) (0.12.1)\n",
            "Requirement already satisfied: importlib-metadata>=4.13.0 in /usr/local/lib/python3.10/dist-packages (from dask==2024.9.0->rapids-dask-dependency==24.10.*->cuml-cu12==24.10.*) (8.5.0)\n",
            "Requirement already satisfied: jinja2>=2.10.3 in /usr/local/lib/python3.10/dist-packages (from distributed==2024.9.0->rapids-dask-dependency==24.10.*->cuml-cu12==24.10.*) (3.1.4)\n",
            "Requirement already satisfied: locket>=1.0.0 in /usr/local/lib/python3.10/dist-packages (from distributed==2024.9.0->rapids-dask-dependency==24.10.*->cuml-cu12==24.10.*) (1.0.0)\n",
            "Requirement already satisfied: msgpack>=1.0.2 in /usr/local/lib/python3.10/dist-packages (from distributed==2024.9.0->rapids-dask-dependency==24.10.*->cuml-cu12==24.10.*) (1.1.0)\n",
            "Requirement already satisfied: psutil>=5.8.0 in /usr/local/lib/python3.10/dist-packages (from distributed==2024.9.0->rapids-dask-dependency==24.10.*->cuml-cu12==24.10.*) (5.9.5)\n",
            "Requirement already satisfied: sortedcontainers>=2.0.5 in /usr/local/lib/python3.10/dist-packages (from distributed==2024.9.0->rapids-dask-dependency==24.10.*->cuml-cu12==24.10.*) (2.4.0)\n",
            "Requirement already satisfied: tblib>=1.6.0 in /usr/local/lib/python3.10/dist-packages (from distributed==2024.9.0->rapids-dask-dependency==24.10.*->cuml-cu12==24.10.*) (3.0.0)\n",
            "Requirement already satisfied: tornado>=6.2.0 in /usr/local/lib/python3.10/dist-packages (from distributed==2024.9.0->rapids-dask-dependency==24.10.*->cuml-cu12==24.10.*) (6.3.3)\n",
            "Requirement already satisfied: urllib3>=1.26.5 in /usr/local/lib/python3.10/dist-packages (from distributed==2024.9.0->rapids-dask-dependency==24.10.*->cuml-cu12==24.10.*) (2.2.3)\n",
            "Requirement already satisfied: libucxx-cu12==0.40.* in /usr/local/lib/python3.10/dist-packages (from ucxx-cu12==0.40.*->distributed-ucxx-cu12==0.40.*->raft-dask-cu12==24.10.*) (0.40.0)\n",
            "Requirement already satisfied: aiohappyeyeballs>=2.3.0 in /usr/local/lib/python3.10/dist-packages (from aiohttp) (2.4.3)\n",
            "Requirement already satisfied: aiosignal>=1.1.2 in /usr/local/lib/python3.10/dist-packages (from aiohttp) (1.3.1)\n",
            "Requirement already satisfied: attrs>=17.3.0 in /usr/local/lib/python3.10/dist-packages (from aiohttp) (24.2.0)\n",
            "Requirement already satisfied: frozenlist>=1.1.1 in /usr/local/lib/python3.10/dist-packages (from aiohttp) (1.4.1)\n",
            "Requirement already satisfied: multidict<7.0,>=4.5 in /usr/local/lib/python3.10/dist-packages (from aiohttp) (6.1.0)\n",
            "Requirement already satisfied: yarl<2.0,>=1.12.0 in /usr/local/lib/python3.10/dist-packages (from aiohttp) (1.16.0)\n",
            "Requirement already satisfied: async-timeout<5.0,>=4.0 in /usr/local/lib/python3.10/dist-packages (from aiohttp) (4.0.3)\n",
            "Requirement already satisfied: contourpy>=1.2 in /usr/local/lib/python3.10/dist-packages (from bokeh>=3.1->cuxfilter-cu12==24.10.*) (1.3.0)\n",
            "Requirement already satisfied: pillow>=7.1.0 in /usr/local/lib/python3.10/dist-packages (from bokeh>=3.1->cuxfilter-cu12==24.10.*) (10.4.0)\n",
            "Requirement already satisfied: xyzservices>=2021.09.1 in /usr/local/lib/python3.10/dist-packages (from bokeh>=3.1->cuxfilter-cu12==24.10.*) (2024.9.0)\n",
            "Requirement already satisfied: cython in /usr/local/lib/python3.10/dist-packages (from cuda-python<13.0a0,>=12.0->cudf-cu12==24.10.*) (3.0.11)\n",
            "Requirement already satisfied: fastrlock>=0.5 in /usr/local/lib/python3.10/dist-packages (from cupy-cuda12x>=12.0.0->cudf-cu12==24.10.*) (0.8.2)\n",
            "Requirement already satisfied: colorcet in /usr/local/lib/python3.10/dist-packages (from datashader>=0.15->cuxfilter-cu12==24.10.*) (3.1.0)\n",
            "Requirement already satisfied: multipledispatch in /usr/local/lib/python3.10/dist-packages (from datashader>=0.15->cuxfilter-cu12==24.10.*) (1.0.0)\n",
            "Requirement already satisfied: param in /usr/local/lib/python3.10/dist-packages (from datashader>=0.15->cuxfilter-cu12==24.10.*) (2.1.1)\n",
            "Requirement already satisfied: pyct in /usr/local/lib/python3.10/dist-packages (from datashader>=0.15->cuxfilter-cu12==24.10.*) (0.5.0)\n",
            "Requirement already satisfied: requests in /usr/local/lib/python3.10/dist-packages (from datashader>=0.15->cuxfilter-cu12==24.10.*) (2.32.3)\n",
            "Requirement already satisfied: xarray in /usr/local/lib/python3.10/dist-packages (from datashader>=0.15->cuxfilter-cu12==24.10.*) (2024.9.0)\n",
            "Requirement already satisfied: pyogrio>=0.7.2 in /usr/local/lib/python3.10/dist-packages (from geopandas>=1.0.0->cuspatial-cu12==24.10.*) (0.10.0)\n",
            "Requirement already satisfied: pyproj>=3.3.0 in /usr/local/lib/python3.10/dist-packages (from geopandas>=1.0.0->cuspatial-cu12==24.10.*) (3.7.0)\n",
            "Requirement already satisfied: shapely>=2.0.0 in /usr/local/lib/python3.10/dist-packages (from geopandas>=1.0.0->cuspatial-cu12==24.10.*) (2.0.6)\n",
            "Requirement already satisfied: pyviz-comms>=2.1 in /usr/local/lib/python3.10/dist-packages (from holoviews>=1.16.0->cuxfilter-cu12==24.10.*) (3.0.3)\n",
            "Requirement already satisfied: llvmlite<0.44,>=0.43.0dev0 in /usr/local/lib/python3.10/dist-packages (from numba>=0.57->cudf-cu12==24.10.*) (0.43.0)\n",
            "Requirement already satisfied: python-dateutil>=2.8.2 in /usr/local/lib/python3.10/dist-packages (from pandas<2.2.3dev0,>=2.0->cudf-cu12==24.10.*) (2.8.2)\n",
            "Requirement already satisfied: pytz>=2020.1 in /usr/local/lib/python3.10/dist-packages (from pandas<2.2.3dev0,>=2.0->cudf-cu12==24.10.*) (2024.2)\n",
            "Requirement already satisfied: tzdata>=2022.7 in /usr/local/lib/python3.10/dist-packages (from pandas<2.2.3dev0,>=2.0->cudf-cu12==24.10.*) (2024.2)\n",
            "Requirement already satisfied: markdown in /usr/local/lib/python3.10/dist-packages (from panel>=1.0->cuxfilter-cu12==24.10.*) (3.7)\n",
            "Requirement already satisfied: markdown-it-py in /usr/local/lib/python3.10/dist-packages (from panel>=1.0->cuxfilter-cu12==24.10.*) (3.0.0)\n",
            "Requirement already satisfied: linkify-it-py in /usr/local/lib/python3.10/dist-packages (from panel>=1.0->cuxfilter-cu12==24.10.*) (2.0.3)\n",
            "Requirement already satisfied: mdit-py-plugins in /usr/local/lib/python3.10/dist-packages (from panel>=1.0->cuxfilter-cu12==24.10.*) (0.4.2)\n",
            "Requirement already satisfied: tqdm>=4.48.0 in /usr/local/lib/python3.10/dist-packages (from panel>=1.0->cuxfilter-cu12==24.10.*) (4.66.5)\n",
            "Requirement already satisfied: bleach in /usr/local/lib/python3.10/dist-packages (from panel>=1.0->cuxfilter-cu12==24.10.*) (6.1.0)\n",
            "Requirement already satisfied: imageio>=2.33 in /usr/local/lib/python3.10/dist-packages (from scikit-image<0.25.0a0,>=0.19.0->cucim-cu12==24.10.*) (2.35.1)\n",
            "Requirement already satisfied: tifffile>=2022.8.12 in /usr/local/lib/python3.10/dist-packages (from scikit-image<0.25.0a0,>=0.19.0->cucim-cu12==24.10.*) (2024.9.20)\n",
            "Requirement already satisfied: idna>=2.0 in /usr/local/lib/python3.10/dist-packages (from yarl<2.0,>=1.12.0->aiohttp) (3.10)\n",
            "Requirement already satisfied: propcache>=0.2.0 in /usr/local/lib/python3.10/dist-packages (from yarl<2.0,>=1.12.0->aiohttp) (0.2.0)\n",
            "Requirement already satisfied: jupyter-server>=1.24.0 in /usr/local/lib/python3.10/dist-packages (from jupyter-server-proxy->cuxfilter-cu12==24.10.*) (1.24.0)\n",
            "Requirement already satisfied: simpervisor>=1.0.0 in /usr/local/lib/python3.10/dist-packages (from jupyter-server-proxy->cuxfilter-cu12==24.10.*) (1.0.0)\n",
            "Requirement already satisfied: traitlets>=5.1.0 in /usr/local/lib/python3.10/dist-packages (from jupyter-server-proxy->cuxfilter-cu12==24.10.*) (5.7.1)\n",
            "Requirement already satisfied: nvidia-nvjitlink-cu12 in /usr/local/lib/python3.10/dist-packages (from nvidia-cufft-cu12->cuml-cu12==24.10.*) (12.6.77)\n",
            "Requirement already satisfied: pygments<3.0.0,>=2.13.0 in /usr/local/lib/python3.10/dist-packages (from rich->cudf-cu12==24.10.*) (2.18.0)\n",
            "Requirement already satisfied: MarkupSafe>=2.0 in /usr/local/lib/python3.10/dist-packages (from jinja2>=2.10.3->distributed==2024.9.0->rapids-dask-dependency==24.10.*->cuml-cu12==24.10.*) (3.0.2)\n",
            "Requirement already satisfied: anyio<4,>=3.1.0 in /usr/local/lib/python3.10/dist-packages (from jupyter-server>=1.24.0->jupyter-server-proxy->cuxfilter-cu12==24.10.*) (3.7.1)\n",
            "Requirement already satisfied: argon2-cffi in /usr/local/lib/python3.10/dist-packages (from jupyter-server>=1.24.0->jupyter-server-proxy->cuxfilter-cu12==24.10.*) (23.1.0)\n",
            "Requirement already satisfied: jupyter-client>=6.1.12 in /usr/local/lib/python3.10/dist-packages (from jupyter-server>=1.24.0->jupyter-server-proxy->cuxfilter-cu12==24.10.*) (6.1.12)\n",
            "Requirement already satisfied: jupyter-core!=5.0.*,>=4.12 in /usr/local/lib/python3.10/dist-packages (from jupyter-server>=1.24.0->jupyter-server-proxy->cuxfilter-cu12==24.10.*) (5.7.2)\n",
            "Requirement already satisfied: nbconvert>=6.4.4 in /usr/local/lib/python3.10/dist-packages (from jupyter-server>=1.24.0->jupyter-server-proxy->cuxfilter-cu12==24.10.*) (6.5.4)\n",
            "Requirement already satisfied: nbformat>=5.2.0 in /usr/local/lib/python3.10/dist-packages (from jupyter-server>=1.24.0->jupyter-server-proxy->cuxfilter-cu12==24.10.*) (5.10.4)\n",
            "Requirement already satisfied: prometheus-client in /usr/local/lib/python3.10/dist-packages (from jupyter-server>=1.24.0->jupyter-server-proxy->cuxfilter-cu12==24.10.*) (0.21.0)\n",
            "Requirement already satisfied: pyzmq>=17 in /usr/local/lib/python3.10/dist-packages (from jupyter-server>=1.24.0->jupyter-server-proxy->cuxfilter-cu12==24.10.*) (24.0.1)\n",
            "Requirement already satisfied: Send2Trash in /usr/local/lib/python3.10/dist-packages (from jupyter-server>=1.24.0->jupyter-server-proxy->cuxfilter-cu12==24.10.*) (1.8.3)\n",
            "Requirement already satisfied: terminado>=0.8.3 in /usr/local/lib/python3.10/dist-packages (from jupyter-server>=1.24.0->jupyter-server-proxy->cuxfilter-cu12==24.10.*) (0.18.1)\n",
            "Requirement already satisfied: websocket-client in /usr/local/lib/python3.10/dist-packages (from jupyter-server>=1.24.0->jupyter-server-proxy->cuxfilter-cu12==24.10.*) (1.8.0)\n",
            "Requirement already satisfied: mdurl~=0.1 in /usr/local/lib/python3.10/dist-packages (from markdown-it-py->panel>=1.0->cuxfilter-cu12==24.10.*) (0.1.2)\n",
            "Requirement already satisfied: certifi in /usr/local/lib/python3.10/dist-packages (from pyogrio>=0.7.2->geopandas>=1.0.0->cuspatial-cu12==24.10.*) (2024.8.30)\n",
            "Requirement already satisfied: six>=1.5 in /usr/local/lib/python3.10/dist-packages (from python-dateutil>=2.8.2->pandas<2.2.3dev0,>=2.0->cudf-cu12==24.10.*) (1.16.0)\n",
            "Requirement already satisfied: webencodings in /usr/local/lib/python3.10/dist-packages (from bleach->panel>=1.0->cuxfilter-cu12==24.10.*) (0.5.1)\n",
            "Requirement already satisfied: uc-micro-py in /usr/local/lib/python3.10/dist-packages (from linkify-it-py->panel>=1.0->cuxfilter-cu12==24.10.*) (1.0.3)\n",
            "Requirement already satisfied: charset-normalizer<4,>=2 in /usr/local/lib/python3.10/dist-packages (from requests->datashader>=0.15->cuxfilter-cu12==24.10.*) (3.4.0)\n",
            "Requirement already satisfied: sniffio>=1.1 in /usr/local/lib/python3.10/dist-packages (from anyio<4,>=3.1.0->jupyter-server>=1.24.0->jupyter-server-proxy->cuxfilter-cu12==24.10.*) (1.3.1)\n",
            "Requirement already satisfied: exceptiongroup in /usr/local/lib/python3.10/dist-packages (from anyio<4,>=3.1.0->jupyter-server>=1.24.0->jupyter-server-proxy->cuxfilter-cu12==24.10.*) (1.2.2)\n",
            "Requirement already satisfied: zipp>=3.20 in /usr/local/lib/python3.10/dist-packages (from importlib-metadata>=4.13.0->dask==2024.9.0->rapids-dask-dependency==24.10.*->cuml-cu12==24.10.*) (3.20.2)\n",
            "Requirement already satisfied: platformdirs>=2.5 in /usr/local/lib/python3.10/dist-packages (from jupyter-core!=5.0.*,>=4.12->jupyter-server>=1.24.0->jupyter-server-proxy->cuxfilter-cu12==24.10.*) (4.3.6)\n",
            "Requirement already satisfied: lxml in /usr/local/lib/python3.10/dist-packages (from nbconvert>=6.4.4->jupyter-server>=1.24.0->jupyter-server-proxy->cuxfilter-cu12==24.10.*) (4.9.4)\n",
            "Requirement already satisfied: beautifulsoup4 in /usr/local/lib/python3.10/dist-packages (from nbconvert>=6.4.4->jupyter-server>=1.24.0->jupyter-server-proxy->cuxfilter-cu12==24.10.*) (4.12.3)\n",
            "Requirement already satisfied: defusedxml in /usr/local/lib/python3.10/dist-packages (from nbconvert>=6.4.4->jupyter-server>=1.24.0->jupyter-server-proxy->cuxfilter-cu12==24.10.*) (0.7.1)\n",
            "Requirement already satisfied: entrypoints>=0.2.2 in /usr/local/lib/python3.10/dist-packages (from nbconvert>=6.4.4->jupyter-server>=1.24.0->jupyter-server-proxy->cuxfilter-cu12==24.10.*) (0.4)\n",
            "Requirement already satisfied: jupyterlab-pygments in /usr/local/lib/python3.10/dist-packages (from nbconvert>=6.4.4->jupyter-server>=1.24.0->jupyter-server-proxy->cuxfilter-cu12==24.10.*) (0.3.0)\n",
            "Requirement already satisfied: mistune<2,>=0.8.1 in /usr/local/lib/python3.10/dist-packages (from nbconvert>=6.4.4->jupyter-server>=1.24.0->jupyter-server-proxy->cuxfilter-cu12==24.10.*) (0.8.4)\n",
            "Requirement already satisfied: nbclient>=0.5.0 in /usr/local/lib/python3.10/dist-packages (from nbconvert>=6.4.4->jupyter-server>=1.24.0->jupyter-server-proxy->cuxfilter-cu12==24.10.*) (0.10.0)\n",
            "Requirement already satisfied: pandocfilters>=1.4.1 in /usr/local/lib/python3.10/dist-packages (from nbconvert>=6.4.4->jupyter-server>=1.24.0->jupyter-server-proxy->cuxfilter-cu12==24.10.*) (1.5.1)\n",
            "Requirement already satisfied: tinycss2 in /usr/local/lib/python3.10/dist-packages (from nbconvert>=6.4.4->jupyter-server>=1.24.0->jupyter-server-proxy->cuxfilter-cu12==24.10.*) (1.3.0)\n",
            "Requirement already satisfied: fastjsonschema>=2.15 in /usr/local/lib/python3.10/dist-packages (from nbformat>=5.2.0->jupyter-server>=1.24.0->jupyter-server-proxy->cuxfilter-cu12==24.10.*) (2.20.0)\n",
            "Requirement already satisfied: jsonschema>=2.6 in /usr/local/lib/python3.10/dist-packages (from nbformat>=5.2.0->jupyter-server>=1.24.0->jupyter-server-proxy->cuxfilter-cu12==24.10.*) (4.23.0)\n",
            "Requirement already satisfied: ptyprocess in /usr/local/lib/python3.10/dist-packages (from terminado>=0.8.3->jupyter-server>=1.24.0->jupyter-server-proxy->cuxfilter-cu12==24.10.*) (0.7.0)\n",
            "Requirement already satisfied: argon2-cffi-bindings in /usr/local/lib/python3.10/dist-packages (from argon2-cffi->jupyter-server>=1.24.0->jupyter-server-proxy->cuxfilter-cu12==24.10.*) (21.2.0)\n",
            "Requirement already satisfied: jsonschema-specifications>=2023.03.6 in /usr/local/lib/python3.10/dist-packages (from jsonschema>=2.6->nbformat>=5.2.0->jupyter-server>=1.24.0->jupyter-server-proxy->cuxfilter-cu12==24.10.*) (2024.10.1)\n",
            "Requirement already satisfied: referencing>=0.28.4 in /usr/local/lib/python3.10/dist-packages (from jsonschema>=2.6->nbformat>=5.2.0->jupyter-server>=1.24.0->jupyter-server-proxy->cuxfilter-cu12==24.10.*) (0.35.1)\n",
            "Requirement already satisfied: rpds-py>=0.7.1 in /usr/local/lib/python3.10/dist-packages (from jsonschema>=2.6->nbformat>=5.2.0->jupyter-server>=1.24.0->jupyter-server-proxy->cuxfilter-cu12==24.10.*) (0.20.0)\n",
            "Requirement already satisfied: cffi>=1.0.1 in /usr/local/lib/python3.10/dist-packages (from argon2-cffi-bindings->argon2-cffi->jupyter-server>=1.24.0->jupyter-server-proxy->cuxfilter-cu12==24.10.*) (1.17.1)\n",
            "Requirement already satisfied: soupsieve>1.2 in /usr/local/lib/python3.10/dist-packages (from beautifulsoup4->nbconvert>=6.4.4->jupyter-server>=1.24.0->jupyter-server-proxy->cuxfilter-cu12==24.10.*) (2.6)\n",
            "Requirement already satisfied: pycparser in /usr/local/lib/python3.10/dist-packages (from cffi>=1.0.1->argon2-cffi-bindings->argon2-cffi->jupyter-server>=1.24.0->jupyter-server-proxy->cuxfilter-cu12==24.10.*) (2.22)\n",
            "\n",
            "        ***********************************************************************\n",
            "        The pip install of RAPIDS is complete.\n",
            "        \n",
            "        Please do not run any further installation from the conda based installation methods, as they may cause issues!\n",
            "        \n",
            "        Please ensure that you're pulling from the git repo to remain updated with the latest working install scripts.\n",
            "\n",
            "        Troubleshooting:\n",
            "            - If there is an installation failure, please check back on RAPIDSAI owned templates/notebooks to see how to update your personal files. \n",
            "            - If an installation failure persists when using the latest script, please make an issue on https://github.com/rapidsai-community/rapidsai-csp-utils\n",
            "        ***********************************************************************\n",
            "        \n"
          ]
        }
      ],
      "source": [
        "# This get the RAPIDS-Colab install files and test check your GPU.  Run this and the next cell only.\n",
        "# Please read the output of this cell.  If your Colab Instance is not RAPIDS compatible, it will warn you and give you remediation steps.\n",
        "!git clone https://github.com/rapidsai/rapidsai-csp-utils.git\n",
        "!python rapidsai-csp-utils/colab/pip-install.py"
      ]
    },
    {
      "cell_type": "code",
      "execution_count": 4,
      "metadata": {
        "colab": {
          "base_uri": "https://localhost:8080/",
          "height": 34
        },
        "id": "mDgaIJtlYP0A",
        "outputId": "e94d148e-17e1-4848-b5ea-d801222c9592"
      },
      "outputs": [
        {
          "output_type": "execute_result",
          "data": {
            "text/plain": [
              "'24.10.01'"
            ],
            "application/vnd.google.colaboratory.intrinsic+json": {
              "type": "string"
            }
          },
          "metadata": {},
          "execution_count": 4
        }
      ],
      "source": [
        "import cudf\n",
        "cudf.__version__"
      ]
    },
    {
      "cell_type": "code",
      "execution_count": 5,
      "metadata": {
        "colab": {
          "base_uri": "https://localhost:8080/",
          "height": 34
        },
        "id": "B-0D7gqwYQjX",
        "outputId": "e9bb63fb-1cb8-4625-fdd2-f9533d3eb322"
      },
      "outputs": [
        {
          "output_type": "execute_result",
          "data": {
            "text/plain": [
              "'24.10.00'"
            ],
            "application/vnd.google.colaboratory.intrinsic+json": {
              "type": "string"
            }
          },
          "metadata": {},
          "execution_count": 5
        }
      ],
      "source": [
        "import cuml\n",
        "cuml.__version__"
      ]
    },
    {
      "cell_type": "code",
      "execution_count": 6,
      "metadata": {
        "colab": {
          "base_uri": "https://localhost:8080/",
          "height": 34
        },
        "id": "tTF6aCHeYS_4",
        "outputId": "e0a19a88-d19b-4180-b823-fc84fbb665a5"
      },
      "outputs": [
        {
          "output_type": "execute_result",
          "data": {
            "text/plain": [
              "'24.10.00'"
            ],
            "application/vnd.google.colaboratory.intrinsic+json": {
              "type": "string"
            }
          },
          "metadata": {},
          "execution_count": 6
        }
      ],
      "source": [
        "import cugraph\n",
        "cugraph.__version__"
      ]
    },
    {
      "cell_type": "code",
      "execution_count": 7,
      "metadata": {
        "colab": {
          "base_uri": "https://localhost:8080/",
          "height": 34
        },
        "id": "iEz-1-_CYUwn",
        "outputId": "ed3b7706-da16-4250-dcc1-0554d275b6f4"
      },
      "outputs": [
        {
          "output_type": "execute_result",
          "data": {
            "text/plain": [
              "'24.10.00'"
            ],
            "application/vnd.google.colaboratory.intrinsic+json": {
              "type": "string"
            }
          },
          "metadata": {},
          "execution_count": 7
        }
      ],
      "source": [
        "import cuspatial\n",
        "cuspatial.__version__"
      ]
    },
    {
      "cell_type": "code",
      "execution_count": 8,
      "metadata": {
        "colab": {
          "base_uri": "https://localhost:8080/",
          "height": 34
        },
        "id": "g8Vfns_TYWco",
        "outputId": "f5636f76-4a49-40c5-9f08-96dfc4bed92f"
      },
      "outputs": [
        {
          "output_type": "execute_result",
          "data": {
            "text/plain": [
              "'24.10.00'"
            ],
            "application/vnd.google.colaboratory.intrinsic+json": {
              "type": "string"
            }
          },
          "metadata": {},
          "execution_count": 8
        }
      ],
      "source": [
        "import cuxfilter\n",
        "cuxfilter.__version__"
      ]
    },
    {
      "cell_type": "markdown",
      "metadata": {
        "id": "NNaed5xG5BrD"
      },
      "source": [
        "# KNN"
      ]
    },
    {
      "cell_type": "markdown",
      "metadata": {
        "id": "HYVTUrLaKs2P"
      },
      "source": [
        "# Import"
      ]
    },
    {
      "cell_type": "code",
      "execution_count": 9,
      "metadata": {
        "id": "9cip0I2nKs2P"
      },
      "outputs": [],
      "source": [
        "import pandas as pd\n",
        "import numpy as np\n",
        "from cuml.neighbors import KNeighborsClassifier as cuKNeighbors\n",
        "from cuml.model_selection import GridSearchCV\n",
        "from sklearn.metrics import classification_report"
      ]
    },
    {
      "cell_type": "markdown",
      "metadata": {
        "id": "nzFu0VtdKs2R"
      },
      "source": [
        "# Load"
      ]
    },
    {
      "cell_type": "code",
      "execution_count": 10,
      "metadata": {
        "id": "leJyqRf5Ks2R"
      },
      "outputs": [],
      "source": [
        "# Load dataset\n",
        "train = pd.read_csv('/content/drive/MyDrive/ML dataset /train.csv')\n",
        "test = pd.read_csv('/content/drive/MyDrive/ML dataset /test.csv')"
      ]
    },
    {
      "cell_type": "markdown",
      "metadata": {
        "id": "jmTN_F0vKs2S"
      },
      "source": [
        "# Split"
      ]
    },
    {
      "cell_type": "code",
      "execution_count": 11,
      "metadata": {
        "id": "sJUKdWqNKs2S"
      },
      "outputs": [],
      "source": [
        "X_train = train.drop(columns=[col for col in train.columns if isinstance(col, str) and col.startswith('genre_')])\n",
        "y_train = train[[col for col in train.columns if isinstance(col, str) and col.startswith('genre_')]]\n",
        "X_test = test.drop(columns=[col for col in test.columns if isinstance(col, str) and col.startswith('genre_')])\n",
        "y_test = test[[col for col in test.columns if isinstance(col, str) and col.startswith('genre_')]]"
      ]
    },
    {
      "cell_type": "code",
      "execution_count": 12,
      "metadata": {
        "colab": {
          "base_uri": "https://localhost:8080/"
        },
        "id": "XAmZSMy8aZIh",
        "outputId": "27dbff89-9204-4709-d819-9cb7771cc951"
      },
      "outputs": [
        {
          "output_type": "stream",
          "name": "stdout",
          "text": [
            "(130629, 1515)\n",
            "(130629, 19)\n",
            "(32658, 1515)\n",
            "(32658, 19)\n"
          ]
        }
      ],
      "source": [
        "print(X_train.shape)\n",
        "print(y_train.shape)\n",
        "print(X_test.shape)\n",
        "print(y_test.shape)"
      ]
    },
    {
      "cell_type": "markdown",
      "metadata": {
        "id": "-_NymzjaKs2T"
      },
      "source": [
        "# Training"
      ]
    },
    {
      "cell_type": "code",
      "execution_count": 13,
      "metadata": {
        "colab": {
          "base_uri": "https://localhost:8080/"
        },
        "id": "dKsmgHfFia8r",
        "outputId": "3010f523-9de7-4229-8485-6a8304cf6080"
      },
      "outputs": [
        {
          "output_type": "stream",
          "name": "stdout",
          "text": [
            "[I] [13:54:25.608707] Unused keyword parameter: n_jobs during cuML estimator initialization\n",
            "Fitting 5 folds for each of 8 candidates, totalling 40 fits\n",
            "[I] [13:54:25.611828] Unused keyword parameter: n_jobs during cuML estimator initialization\n",
            "[CV 1/5] END .....................n_neighbors=1;, score=0.831 total time=   4.3s\n",
            "[I] [13:54:29.881278] Unused keyword parameter: n_jobs during cuML estimator initialization\n",
            "[CV 2/5] END .....................n_neighbors=1;, score=0.830 total time=   3.1s\n",
            "[I] [13:54:32.963458] Unused keyword parameter: n_jobs during cuML estimator initialization\n",
            "[CV 3/5] END .....................n_neighbors=1;, score=0.835 total time=   2.9s\n",
            "[I] [13:54:35.844288] Unused keyword parameter: n_jobs during cuML estimator initialization\n",
            "[CV 4/5] END .....................n_neighbors=1;, score=0.840 total time=   2.3s\n",
            "[I] [13:54:38.191491] Unused keyword parameter: n_jobs during cuML estimator initialization\n",
            "[CV 5/5] END .....................n_neighbors=1;, score=0.837 total time=   3.0s\n",
            "[I] [13:54:41.149122] Unused keyword parameter: n_jobs during cuML estimator initialization\n",
            "[CV 1/5] END .....................n_neighbors=2;, score=0.900 total time=   2.0s\n",
            "[I] [13:54:43.144033] Unused keyword parameter: n_jobs during cuML estimator initialization\n",
            "[CV 2/5] END .....................n_neighbors=2;, score=0.893 total time=   2.0s\n",
            "[I] [13:54:45.181413] Unused keyword parameter: n_jobs during cuML estimator initialization\n",
            "[CV 3/5] END .....................n_neighbors=2;, score=0.905 total time=   2.2s\n",
            "[I] [13:54:47.335501] Unused keyword parameter: n_jobs during cuML estimator initialization\n",
            "[CV 4/5] END .....................n_neighbors=2;, score=0.901 total time=   2.6s\n",
            "[I] [13:54:49.971793] Unused keyword parameter: n_jobs during cuML estimator initialization\n",
            "[CV 5/5] END .....................n_neighbors=2;, score=0.901 total time=   2.2s\n",
            "[I] [13:54:52.221155] Unused keyword parameter: n_jobs during cuML estimator initialization\n",
            "[CV 1/5] END .....................n_neighbors=3;, score=0.887 total time=   2.2s\n",
            "[I] [13:54:54.394444] Unused keyword parameter: n_jobs during cuML estimator initialization\n",
            "[CV 2/5] END .....................n_neighbors=3;, score=0.881 total time=   2.4s\n",
            "[I] [13:54:56.779947] Unused keyword parameter: n_jobs during cuML estimator initialization\n",
            "[CV 3/5] END .....................n_neighbors=3;, score=0.893 total time=   2.9s\n",
            "[I] [13:54:59.646285] Unused keyword parameter: n_jobs during cuML estimator initialization\n",
            "[CV 4/5] END .....................n_neighbors=3;, score=0.888 total time=   2.4s\n",
            "[I] [13:55:02.061280] Unused keyword parameter: n_jobs during cuML estimator initialization\n",
            "[CV 5/5] END .....................n_neighbors=3;, score=0.888 total time=   2.7s\n",
            "[I] [13:55:04.806274] Unused keyword parameter: n_jobs during cuML estimator initialization\n",
            "[CV 1/5] END .....................n_neighbors=4;, score=0.906 total time=   3.8s\n",
            "[I] [13:55:08.642993] Unused keyword parameter: n_jobs during cuML estimator initialization\n",
            "[CV 2/5] END .....................n_neighbors=4;, score=0.898 total time=   2.7s\n",
            "[I] [13:55:11.335057] Unused keyword parameter: n_jobs during cuML estimator initialization\n",
            "[CV 3/5] END .....................n_neighbors=4;, score=0.909 total time=   2.3s\n",
            "[I] [13:55:13.678362] Unused keyword parameter: n_jobs during cuML estimator initialization\n",
            "[CV 4/5] END .....................n_neighbors=4;, score=0.905 total time=   3.4s\n",
            "[I] [13:55:17.087401] Unused keyword parameter: n_jobs during cuML estimator initialization\n",
            "[CV 5/5] END .....................n_neighbors=4;, score=0.907 total time=   3.4s\n",
            "[I] [13:55:20.507293] Unused keyword parameter: n_jobs during cuML estimator initialization\n",
            "[CV 1/5] END .....................n_neighbors=5;, score=0.904 total time=   3.4s\n",
            "[I] [13:55:23.948507] Unused keyword parameter: n_jobs during cuML estimator initialization\n",
            "[CV 2/5] END .....................n_neighbors=5;, score=0.895 total time=   5.2s\n",
            "[I] [13:55:29.186059] Unused keyword parameter: n_jobs during cuML estimator initialization\n",
            "[CV 3/5] END .....................n_neighbors=5;, score=0.906 total time=   2.1s\n",
            "[I] [13:55:31.299159] Unused keyword parameter: n_jobs during cuML estimator initialization\n",
            "[CV 4/5] END .....................n_neighbors=5;, score=0.903 total time=   2.1s\n",
            "[I] [13:55:33.384435] Unused keyword parameter: n_jobs during cuML estimator initialization\n",
            "[CV 5/5] END .....................n_neighbors=5;, score=0.904 total time=   2.2s\n",
            "[I] [13:55:35.566441] Unused keyword parameter: n_jobs during cuML estimator initialization\n",
            "[CV 1/5] END .....................n_neighbors=6;, score=0.909 total time=   2.2s\n",
            "[I] [13:55:37.780282] Unused keyword parameter: n_jobs during cuML estimator initialization\n",
            "[CV 2/5] END .....................n_neighbors=6;, score=0.900 total time=   2.1s\n",
            "[I] [13:55:39.898868] Unused keyword parameter: n_jobs during cuML estimator initialization\n",
            "[CV 3/5] END .....................n_neighbors=6;, score=0.910 total time=   2.1s\n",
            "[I] [13:55:41.988253] Unused keyword parameter: n_jobs during cuML estimator initialization\n",
            "[CV 4/5] END .....................n_neighbors=6;, score=0.909 total time=   2.1s\n",
            "[I] [13:55:44.072033] Unused keyword parameter: n_jobs during cuML estimator initialization\n",
            "[CV 5/5] END .....................n_neighbors=6;, score=0.909 total time=   2.1s\n",
            "[I] [13:55:46.168784] Unused keyword parameter: n_jobs during cuML estimator initialization\n",
            "[CV 1/5] END .....................n_neighbors=7;, score=0.907 total time=   2.1s\n",
            "[I] [13:55:48.290631] Unused keyword parameter: n_jobs during cuML estimator initialization\n",
            "[CV 2/5] END .....................n_neighbors=7;, score=0.899 total time=   2.2s\n",
            "[I] [13:55:50.504749] Unused keyword parameter: n_jobs during cuML estimator initialization\n",
            "[CV 3/5] END .....................n_neighbors=7;, score=0.910 total time=   2.3s\n",
            "[I] [13:55:52.768103] Unused keyword parameter: n_jobs during cuML estimator initialization\n",
            "[CV 4/5] END .....................n_neighbors=7;, score=0.906 total time=   2.2s\n",
            "[I] [13:55:54.985537] Unused keyword parameter: n_jobs during cuML estimator initialization\n",
            "[CV 5/5] END .....................n_neighbors=7;, score=0.908 total time=   2.2s\n",
            "[I] [13:55:57.198230] Unused keyword parameter: n_jobs during cuML estimator initialization\n",
            "[CV 1/5] END .....................n_neighbors=8;, score=0.910 total time=   2.1s\n",
            "[I] [13:55:59.256412] Unused keyword parameter: n_jobs during cuML estimator initialization\n",
            "[CV 2/5] END .....................n_neighbors=8;, score=0.900 total time=   6.1s\n",
            "[I] [13:56:05.354765] Unused keyword parameter: n_jobs during cuML estimator initialization\n",
            "[CV 3/5] END .....................n_neighbors=8;, score=0.911 total time=   4.0s\n",
            "[I] [13:56:09.372965] Unused keyword parameter: n_jobs during cuML estimator initialization\n",
            "[CV 4/5] END .....................n_neighbors=8;, score=0.908 total time=   2.3s\n",
            "[I] [13:56:11.676143] Unused keyword parameter: n_jobs during cuML estimator initialization\n",
            "[CV 5/5] END .....................n_neighbors=8;, score=0.910 total time=   4.8s\n",
            "[I] [13:56:16.508222] Unused keyword parameter: n_jobs during cuML estimator initialization\n",
            "Best parameters found:  {'n_neighbors': 8}\n"
          ]
        }
      ],
      "source": [
        "from sklearn.utils import shuffle\n",
        "\n",
        "\n",
        "# Define a smaller batch size for grid search\n",
        "subsample_size = 50000\n",
        "\n",
        "# Shuffle and subsample the data for grid search\n",
        "X_train_sub, y_train_sub = shuffle(X_train, y_train, n_samples=subsample_size)\n",
        "\n",
        "# Create a KNN model\n",
        "knn = cuKNeighbors()\n",
        "\n",
        "# Define a grid of hyperparameter values\n",
        "param_grid = {\n",
        "    'n_neighbors': np.arange(1, 9),\n",
        "}\n",
        "\n",
        "# Perform grid search using the subsample\n",
        "grid_search = GridSearchCV(knn, param_grid, cv=5, verbose=3)\n",
        "grid_search.fit(X_train_sub, y_train_sub)\n",
        "\n",
        "# Print the best parameters from the grid search\n",
        "print(\"Best parameters found: \", grid_search.best_params_)"
      ]
    },
    {
      "cell_type": "code",
      "execution_count": 14,
      "metadata": {
        "id": "ZXL0zXptijWq"
      },
      "outputs": [],
      "source": [
        "# Train the KNN on the full dataset using the best parameters\n",
        "best_knn = cuKNeighbors(n_neighbors=grid_search.best_params_['n_neighbors'])\n",
        "\n",
        "# Train the model on the full dataset\n",
        "best_knn.fit(X_train, y_train)\n",
        "\n",
        "# Make predictions on the test set\n",
        "y_pred = best_knn.predict(X_test)\n"
      ]
    },
    {
      "cell_type": "code",
      "execution_count": 15,
      "metadata": {
        "colab": {
          "base_uri": "https://localhost:8080/"
        },
        "id": "339q9DpaitRG",
        "outputId": "2c7a0e3f-4762-446c-eb9b-db608c504441"
      },
      "outputs": [
        {
          "output_type": "stream",
          "name": "stdout",
          "text": [
            "KNN:\n",
            "-----------------------------------------------------\n",
            "                 precision    recall  f1-score   support\n",
            "\n",
            "         Action       0.41      0.01      0.02      2988\n",
            "      Adventure       0.73      0.01      0.03      1681\n",
            "      Animation       0.25      0.00      0.00      2603\n",
            "         Comedy       0.33      0.05      0.08      8162\n",
            "          Crime       0.00      0.00      0.00      2220\n",
            "    Documentary       0.27      0.02      0.04      5998\n",
            "          Drama       0.40      0.10      0.16     12017\n",
            "         Family       0.29      0.00      0.00      1683\n",
            "        Fantasy       0.40      0.00      0.00      1434\n",
            "        History       0.00      0.00      0.00      1002\n",
            "         Horror       0.29      0.00      0.01      2961\n",
            "          Music       0.00      0.00      0.00      1993\n",
            "        Mystery       0.00      0.00      0.00      1279\n",
            "        Romance       0.10      0.00      0.00      3280\n",
            "Science Fiction       0.73      0.01      0.01      1360\n",
            "       TV Movie       0.00      0.00      0.00      1483\n",
            "       Thriller       0.27      0.01      0.01      3297\n",
            "            War       0.00      0.00      0.00       706\n",
            "        Western       0.00      0.00      0.00       494\n",
            "\n",
            "      micro avg       0.37      0.03      0.06     56641\n",
            "      macro avg       0.23      0.01      0.02     56641\n",
            "   weighted avg       0.29      0.03      0.05     56641\n",
            "    samples avg       0.05      0.03      0.04     56641\n",
            "\n"
          ]
        }
      ],
      "source": [
        "print('KNN:')\n",
        "print('-----------------------------------------------------')\n",
        "# Extract the genre column names and remove the 'genre_' prefix\n",
        "genre_columns = [col.replace('genre_', '') for col in train.columns if isinstance(col, str) and col.startswith('genre_')]\n",
        "print(classification_report(y_test, y_pred, target_names=genre_columns, zero_division=0))"
      ]
    }
  ],
  "metadata": {
    "accelerator": "GPU",
    "colab": {
      "gpuType": "T4",
      "provenance": []
    },
    "kernelspec": {
      "display_name": "Python 3",
      "name": "python3"
    },
    "language_info": {
      "codemirror_mode": {
        "name": "ipython",
        "version": 3
      },
      "file_extension": ".py",
      "mimetype": "text/x-python",
      "name": "python",
      "nbconvert_exporter": "python",
      "pygments_lexer": "ipython3",
      "version": "3.12.6"
    }
  },
  "nbformat": 4,
  "nbformat_minor": 0
}