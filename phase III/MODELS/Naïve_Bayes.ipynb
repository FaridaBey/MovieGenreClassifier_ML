{
  "cells": [
    {
      "cell_type": "code",
      "execution_count": 2,
      "metadata": {
        "colab": {
          "base_uri": "https://localhost:8080/"
        },
        "id": "qbP0rQ0q4cuD",
        "outputId": "f7e75867-c840-4486-8164-9831b6dd7779"
      },
      "outputs": [
        {
          "output_type": "stream",
          "name": "stdout",
          "text": [
            "Mounted at /content/drive\n"
          ]
        }
      ],
      "source": [
        "from google.colab import drive\n",
        "drive.mount('/content/drive')"
      ]
    },
    {
      "cell_type": "markdown",
      "metadata": {
        "id": "PLcYNmpF5FAs"
      },
      "source": [
        "# Naïve Bayes"
      ]
    },
    {
      "cell_type": "markdown",
      "metadata": {
        "id": "jgTaJtij5FAt"
      },
      "source": [
        "# Import"
      ]
    },
    {
      "cell_type": "code",
      "execution_count": 3,
      "metadata": {
        "id": "ofaVje1cYIyF"
      },
      "outputs": [],
      "source": [
        "import numpy as np\n",
        "import pandas as pd\n",
        "from sklearn.naive_bayes import MultinomialNB\n",
        "from sklearn.model_selection import GridSearchCV\n",
        "from sklearn.metrics import classification_report, accuracy_score\n",
        "from sklearn.multioutput import MultiOutputClassifier"
      ]
    },
    {
      "cell_type": "markdown",
      "metadata": {
        "id": "vbrkxSx4YIyF"
      },
      "source": [
        "# Load"
      ]
    },
    {
      "cell_type": "code",
      "execution_count": 4,
      "metadata": {
        "id": "W2-aLk1-YIyG"
      },
      "outputs": [],
      "source": [
        "# Load dataset\n",
        "train = pd.read_csv('/content/drive/MyDrive/ML dataset /train.csv')\n",
        "test = pd.read_csv('/content/drive/MyDrive/ML dataset /test.csv')\n"
      ]
    },
    {
      "cell_type": "markdown",
      "metadata": {
        "id": "5G9HU9LbYIyG"
      },
      "source": [
        "# Split"
      ]
    },
    {
      "cell_type": "code",
      "execution_count": 5,
      "metadata": {
        "id": "6d3eo1IpYIyH"
      },
      "outputs": [],
      "source": [
        "X_train = train.drop(columns=[col for col in train.columns if isinstance(col, str) and col.startswith('genre_')])\n",
        "y_train = train[[col for col in train.columns if isinstance(col, str) and col.startswith('genre_')]]\n",
        "X_test = test.drop(columns=[col for col in test.columns if isinstance(col, str) and col.startswith('genre_')])\n",
        "y_test = test[[col for col in test.columns if isinstance(col, str) and col.startswith('genre_')]]"
      ]
    },
    {
      "cell_type": "code",
      "execution_count": 6,
      "metadata": {
        "colab": {
          "base_uri": "https://localhost:8080/"
        },
        "id": "ND5GRqY1Ge7_",
        "outputId": "83ea7be6-103e-42a4-f7e7-335cc6fefcd0"
      },
      "outputs": [
        {
          "output_type": "stream",
          "name": "stdout",
          "text": [
            "(130629, 1515)\n",
            "(130629, 19)\n",
            "(32658, 1515)\n",
            "(32658, 19)\n"
          ]
        }
      ],
      "source": [
        "print(X_train.shape)\n",
        "print(y_train.shape)\n",
        "print(X_test.shape)\n",
        "print(y_test.shape)"
      ]
    },
    {
      "cell_type": "markdown",
      "metadata": {
        "id": "5Kd0TEQ0GfgK"
      },
      "source": [
        "# Training"
      ]
    },
    {
      "cell_type": "code",
      "execution_count": 7,
      "metadata": {
        "id": "JUBNKjkJGigH"
      },
      "outputs": [],
      "source": [
        "from sklearn.naive_bayes import GaussianNB\n",
        "\n",
        "nb_model = GaussianNB()\n",
        "multi_nb_model = MultiOutputClassifier(nb_model)"
      ]
    },
    {
      "cell_type": "code",
      "execution_count": 8,
      "metadata": {
        "colab": {
          "base_uri": "https://localhost:8080/"
        },
        "id": "36ZEmhxCGmib",
        "outputId": "30b1b35f-eff7-4d1e-81de-af2c6dfe702d"
      },
      "outputs": [
        {
          "output_type": "stream",
          "name": "stdout",
          "text": [
            "Best parameters: {}\n",
            "              precision    recall  f1-score   support\n",
            "\n",
            "           0       0.10      0.97      0.18      2988\n",
            "           1       0.05      0.97      0.10      1681\n",
            "           2       0.09      0.97      0.16      2603\n",
            "           3       0.25      0.98      0.40      8162\n",
            "           4       0.07      0.98      0.13      2220\n",
            "           5       0.23      0.87      0.36      5998\n",
            "           6       0.54      0.16      0.25     12017\n",
            "           7       0.05      0.98      0.10      1683\n",
            "           8       0.04      0.99      0.09      1434\n",
            "           9       0.03      0.98      0.06      1002\n",
            "          10       0.10      0.98      0.18      2961\n",
            "          11       0.06      0.98      0.12      1993\n",
            "          12       0.04      0.98      0.08      1279\n",
            "          13       0.10      0.98      0.19      3280\n",
            "          14       0.04      0.97      0.08      1360\n",
            "          15       0.05      0.97      0.10      1483\n",
            "          16       0.11      0.98      0.19      3297\n",
            "          17       0.02      0.96      0.04       706\n",
            "          18       0.02      0.99      0.03       494\n",
            "\n",
            "   micro avg       0.08      0.79      0.15     56641\n",
            "   macro avg       0.11      0.93      0.15     56641\n",
            "weighted avg       0.22      0.79      0.22     56641\n",
            " samples avg       0.09      0.77      0.15     56641\n",
            "\n"
          ]
        },
        {
          "output_type": "stream",
          "name": "stderr",
          "text": [
            "/usr/local/lib/python3.10/dist-packages/sklearn/metrics/_classification.py:1531: UndefinedMetricWarning: Precision is ill-defined and being set to 0.0 in samples with no predicted labels. Use `zero_division` parameter to control this behavior.\n",
            "  _warn_prf(average, modifier, f\"{metric.capitalize()} is\", len(result))\n"
          ]
        }
      ],
      "source": [
        "# Proceed with Grid Search\n",
        "grid_search = GridSearchCV(multi_nb_model, param_grid = {}, scoring='accuracy', cv=3)\n",
        "grid_search.fit(X_train, y_train)\n",
        "\n",
        "# Best parameters\n",
        "print(\"Best parameters:\", grid_search.best_params_)\n",
        "\n",
        "# Predictions\n",
        "y_pred = grid_search.predict(X_test)\n",
        "\n",
        "# Evaluation\n",
        "print(classification_report(y_test, y_pred))\n"
      ]
    },
    {
      "cell_type": "code",
      "execution_count": 9,
      "metadata": {
        "colab": {
          "base_uri": "https://localhost:8080/"
        },
        "id": "y7wZ5Se2KcRu",
        "outputId": "b82924de-74cd-42ce-bcd4-41e396ee76c6"
      },
      "outputs": [
        {
          "output_type": "stream",
          "name": "stdout",
          "text": [
            "Naïve Bayes:\n",
            "-----------------------------------------------------\n",
            "                 precision    recall  f1-score   support\n",
            "\n",
            "         Action       0.10      0.97      0.18      2988\n",
            "      Adventure       0.05      0.97      0.10      1681\n",
            "      Animation       0.09      0.97      0.16      2603\n",
            "         Comedy       0.25      0.98      0.40      8162\n",
            "          Crime       0.07      0.98      0.13      2220\n",
            "    Documentary       0.23      0.87      0.36      5998\n",
            "          Drama       0.54      0.16      0.25     12017\n",
            "         Family       0.05      0.98      0.10      1683\n",
            "        Fantasy       0.04      0.99      0.09      1434\n",
            "        History       0.03      0.98      0.06      1002\n",
            "         Horror       0.10      0.98      0.18      2961\n",
            "          Music       0.06      0.98      0.12      1993\n",
            "        Mystery       0.04      0.98      0.08      1279\n",
            "        Romance       0.10      0.98      0.19      3280\n",
            "Science Fiction       0.04      0.97      0.08      1360\n",
            "       TV Movie       0.05      0.97      0.10      1483\n",
            "       Thriller       0.11      0.98      0.19      3297\n",
            "            War       0.02      0.96      0.04       706\n",
            "        Western       0.02      0.99      0.03       494\n",
            "\n",
            "      micro avg       0.08      0.79      0.15     56641\n",
            "      macro avg       0.11      0.93      0.15     56641\n",
            "   weighted avg       0.22      0.79      0.22     56641\n",
            "    samples avg       0.09      0.77      0.15     56641\n",
            "\n"
          ]
        }
      ],
      "source": [
        "print('Naïve Bayes:')\n",
        "print('-----------------------------------------------------')\n",
        "# Extract the genre column names and remove the 'genre_' prefix\n",
        "genre_columns = [col.replace('genre_', '') for col in train.columns if isinstance(col, str) and col.startswith('genre_')]\n",
        "print(classification_report(y_test, y_pred, target_names=genre_columns, zero_division=0))"
      ]
    }
  ],
  "metadata": {
    "colab": {
      "provenance": []
    },
    "kernelspec": {
      "display_name": "Python 3",
      "name": "python3"
    },
    "language_info": {
      "codemirror_mode": {
        "name": "ipython",
        "version": 3
      },
      "file_extension": ".py",
      "mimetype": "text/x-python",
      "name": "python",
      "nbconvert_exporter": "python",
      "pygments_lexer": "ipython3",
      "version": "3.12.6"
    }
  },
  "nbformat": 4,
  "nbformat_minor": 0
}